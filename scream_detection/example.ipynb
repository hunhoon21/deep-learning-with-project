{
 "cells": [
  {
   "cell_type": "markdown",
   "metadata": {
    "id": "_t2pRrHTJ9nE"
   },
   "source": [
    "## 소리 데이터에 대한 이해"
   ]
  },
  {
   "cell_type": "code",
   "execution_count": 1,
   "metadata": {
    "executionInfo": {
     "elapsed": 3843,
     "status": "ok",
     "timestamp": 1614595766593,
     "user": {
      "displayName": "Hooncheol Shin",
      "photoUrl": "https://lh3.googleusercontent.com/a-/AOh14GgOP8xftDNxLBTGt9RYgJKhihLZm89rKAIFTVIf=s64",
      "userId": "09924783447560152895"
     },
     "user_tz": -540
    },
    "id": "TGzJ8hDiJ9nK"
   },
   "outputs": [],
   "source": [
    "import librosa"
   ]
  },
  {
   "cell_type": "code",
   "execution_count": 2,
   "metadata": {
    "colab": {
     "base_uri": "https://localhost:8080/",
     "height": 283
    },
    "executionInfo": {
     "elapsed": 1004,
     "status": "error",
     "timestamp": 1614507834838,
     "user": {
      "displayName": "Hooncheol Shin",
      "photoUrl": "https://lh3.googleusercontent.com/a-/AOh14GgOP8xftDNxLBTGt9RYgJKhihLZm89rKAIFTVIf=s64",
      "userId": "09924783447560152895"
     },
     "user_tz": -540
    },
    "id": "nRdhSEgnJ9nK",
    "outputId": "ec92b463-ea3c-48a8-aff5-f711a7d27e5d"
   },
   "outputs": [],
   "source": [
    "import sounddevice as sd"
   ]
  },
  {
   "cell_type": "code",
   "execution_count": 3,
   "metadata": {
    "colab": {
     "base_uri": "https://localhost:8080/"
    },
    "executionInfo": {
     "elapsed": 1788,
     "status": "ok",
     "timestamp": 1614507838757,
     "user": {
      "displayName": "Hooncheol Shin",
      "photoUrl": "https://lh3.googleusercontent.com/a-/AOh14GgOP8xftDNxLBTGt9RYgJKhihLZm89rKAIFTVIf=s64",
      "userId": "09924783447560152895"
     },
     "user_tz": -540
    },
    "id": "R7jSWhwQJ9nL",
    "outputId": "210037dc-a306-444f-d266-07a91a27e6f7"
   },
   "outputs": [
    {
     "name": "stdout",
     "output_type": "stream",
     "text": [
      "예제 파일은 다음 위치에 있습니다\n",
      "파일 경로: /Users/henris/Library/Caches/librosa/sorohanro_-_solo-trumpet-06.ogg\n"
     ]
    }
   ],
   "source": [
    "example_file_path = librosa.ex('trumpet')\n",
    "print(f'예제 파일은 다음 위치에 있습니다\\n파일 경로: {example_file_path}')"
   ]
  },
  {
   "cell_type": "code",
   "execution_count": 4,
   "metadata": {
    "executionInfo": {
     "elapsed": 995,
     "status": "ok",
     "timestamp": 1614507844722,
     "user": {
      "displayName": "Hooncheol Shin",
      "photoUrl": "https://lh3.googleusercontent.com/a-/AOh14GgOP8xftDNxLBTGt9RYgJKhihLZm89rKAIFTVIf=s64",
      "userId": "09924783447560152895"
     },
     "user_tz": -540
    },
    "id": "iAQIGEg8J9nM"
   },
   "outputs": [
    {
     "name": "stderr",
     "output_type": "stream",
     "text": [
      "/Users/henris/.pyenv/versions/3.7.3/envs/scream/lib/python3.7/site-packages/librosa/core/audio.py:162: UserWarning: PySoundFile failed. Trying audioread instead.\n",
      "  warnings.warn(\"PySoundFile failed. Trying audioread instead.\")\n"
     ]
    }
   ],
   "source": [
    "y, sr = librosa.load(example_file_path)"
   ]
  },
  {
   "cell_type": "code",
   "execution_count": 5,
   "metadata": {
    "id": "7kxQ3MpBJ9nM"
   },
   "outputs": [],
   "source": [
    "sd.play(y)"
   ]
  },
  {
   "cell_type": "code",
   "execution_count": 6,
   "metadata": {
    "id": "AomIRXcVJ9nM",
    "outputId": "a66544ee-2e3a-4989-c383-f0ef4e452d15"
   },
   "outputs": [
    {
     "name": "stdout",
     "output_type": "stream",
     "text": [
      "y : [-0.00140381 -0.00045776 -0.00039673 ...  0.          0.\n",
      "  0.        ]\n",
      "sampling_rate : 22050\n"
     ]
    }
   ],
   "source": [
    "print(f'y : {y}\\nsampling_rate : {sr}')"
   ]
  },
  {
   "cell_type": "code",
   "execution_count": 7,
   "metadata": {
    "id": "zd-nlDknJ9nN",
    "outputId": "167d0e68-8317-482a-9fc2-02d51ff15caf"
   },
   "outputs": [
    {
     "name": "stdout",
     "output_type": "stream",
     "text": [
      "y는 117888 길이의 벡터\n"
     ]
    }
   ],
   "source": [
    "print(f'y는 {len(y)} 길이의 벡터')"
   ]
  },
  {
   "cell_type": "code",
   "execution_count": 8,
   "metadata": {
    "id": "IKOVBu2WJ9nN",
    "outputId": "a623b674-6f35-4f40-835a-66a73d590a57"
   },
   "outputs": [
    {
     "name": "stdout",
     "output_type": "stream",
     "text": [
      "y의 앞 20개 값은?\n",
      "[-1.4038086e-03 -4.5776367e-04 -3.9672852e-04  9.1552734e-05\n",
      "  3.0517578e-05 -1.8310547e-04 -3.6621094e-04  1.5258789e-04\n",
      "  5.1879883e-04  1.4953613e-03  1.8615723e-03  9.1552734e-04\n",
      " -3.9672852e-04 -2.0446777e-03 -1.2817383e-03 -5.4931641e-04\n",
      "  8.8500977e-04  9.7656250e-04  1.0070801e-03 -1.2817383e-03]\n"
     ]
    }
   ],
   "source": [
    "print(f'y의 앞 20개 값은?\\n{y[:20]}')"
   ]
  },
  {
   "cell_type": "code",
   "execution_count": 9,
   "metadata": {
    "id": "VEKlQj8rJ9nN",
    "outputId": "6a3dba12-d451-4819-a444-e472a89c575a"
   },
   "outputs": [
    {
     "name": "stdout",
     "output_type": "stream",
     "text": [
      "y는 5.346394557823129 초의 신호 벡터!\n"
     ]
    }
   ],
   "source": [
    "print(f'y는 {len(y) / sr} 초의 신호 벡터!')"
   ]
  },
  {
   "cell_type": "code",
   "execution_count": 10,
   "metadata": {
    "id": "CEkkKaX-J9nO"
   },
   "outputs": [],
   "source": [
    "from matplotlib import pyplot as plt"
   ]
  },
  {
   "cell_type": "code",
   "execution_count": 11,
   "metadata": {
    "id": "BfkzlZjEJ9nO",
    "outputId": "bdaa4656-0507-41e5-98d7-80acc0090848"
   },
   "outputs": [
    {
     "data": {
      "text/plain": [
       "22050"
      ]
     },
     "execution_count": 11,
     "metadata": {},
     "output_type": "execute_result"
    }
   ],
   "source": [
    "sr"
   ]
  },
  {
   "cell_type": "code",
   "execution_count": 12,
   "metadata": {
    "id": "8mlnZ6uSJ9nO"
   },
   "outputs": [],
   "source": [
    "x = [i / sr for i in range(len(y))]"
   ]
  },
  {
   "cell_type": "code",
   "execution_count": 13,
   "metadata": {
    "id": "Z-ZRbV0GJ9nO",
    "outputId": "71195ab3-0838-472c-c185-ed8a93faff31"
   },
   "outputs": [
    {
     "data": {
      "image/png": "[encoded data removed]",
      "text/plain": [
       "<Figure size 720x432 with 1 Axes>"
      ]
     },
     "metadata": {
      "needs_background": "light"
     },
     "output_type": "display_data"
    }
   ],
   "source": [
    "plt.figure(figsize=(10, 6))\n",
    "plt.plot(x, y)\n",
    "plt.title('Audio Example Data (trumpet sound)', fontsize=20)\n",
    "plt.xlabel('Time (sec)', fontsize=16)\n",
    "plt.ylabel('Signal Amplitude', fontsize=16)\n",
    "plt.show()"
   ]
  },
  {
   "cell_type": "code",
   "execution_count": 14,
   "metadata": {
    "id": "CO6m3IbsJ9nP",
    "outputId": "4e3aebd5-1a03-45c6-8966-d13ec95b8047"
   },
   "outputs": [
    {
     "data": {
      "image/png": "[encoded data removed]",
      "text/plain": [
       "<Figure size 720x432 with 1 Axes>"
      ]
     },
     "metadata": {
      "needs_background": "light"
     },
     "output_type": "display_data"
    }
   ],
   "source": [
    "plt.figure(figsize=(10, 6))\n",
    "plt.plot(x[:sr], y[:sr])\n",
    "plt.title('Audio Example Data (trumpet sound)', fontsize=20)\n",
    "plt.xlabel('Time (sec)', fontsize=16)\n",
    "plt.ylabel('Signal Amplitude', fontsize=16)\n",
    "plt.show()"
   ]
  },
  {
   "cell_type": "code",
   "execution_count": 15,
   "metadata": {
    "id": "HjIlKzpGJ9nP",
    "outputId": "ac0c817a-9293-4260-c3fb-66d39e4a4768"
   },
   "outputs": [
    {
     "data": {
      "image/png": "[encoded data removed]",
      "text/plain": [
       "<Figure size 720x432 with 1 Axes>"
      ]
     },
     "metadata": {
      "needs_background": "light"
     },
     "output_type": "display_data"
    }
   ],
   "source": [
    "plt.figure(figsize=(10, 6))\n",
    "plt.plot(x[: sr // 10], y[: sr // 10])\n",
    "plt.title('Audio Example Data (trumpet sound)', fontsize=20)\n",
    "plt.xlabel('Time (sec)', fontsize=16)\n",
    "plt.ylabel('Signal Amplitude', fontsize=16)\n",
    "plt.show()"
   ]
  },
  {
   "cell_type": "code",
   "execution_count": 16,
   "metadata": {
    "id": "KxxJJQFiJ9nP",
    "outputId": "ac0b4673-8308-4d69-e2f3-cff689083530"
   },
   "outputs": [
    {
     "data": {
      "image/png": "[encoded data removed]",
      "text/plain": [
       "<Figure size 720x432 with 1 Axes>"
      ]
     },
     "metadata": {
      "needs_background": "light"
     },
     "output_type": "display_data"
    }
   ],
   "source": [
    "plt.figure(figsize=(10, 6))\n",
    "plt.plot(x[: sr // 100], y[: sr // 100])\n",
    "plt.title('Audio Example Data (trumpet sound)', fontsize=20)\n",
    "plt.xlabel('Time (sec)', fontsize=16)\n",
    "plt.ylabel('Signal Amplitude', fontsize=16)\n",
    "plt.show()"
   ]
  },
  {
   "cell_type": "code",
   "execution_count": 18,
   "metadata": {
    "id": "OQrNEOzAJ9nQ"
   },
   "outputs": [],
   "source": [
    "sd.play(y)"
   ]
  },
  {
   "cell_type": "markdown",
   "metadata": {
    "id": "oF62V2iUJ9nQ"
   },
   "source": [
    "## Frame Processing"
   ]
  },
  {
   "cell_type": "code",
   "execution_count": 19,
   "metadata": {
    "executionInfo": {
     "elapsed": 981,
     "status": "ok",
     "timestamp": 1614507880020,
     "user": {
      "displayName": "Hooncheol Shin",
      "photoUrl": "https://lh3.googleusercontent.com/a-/AOh14GgOP8xftDNxLBTGt9RYgJKhihLZm89rKAIFTVIf=s64",
      "userId": "09924783447560152895"
     },
     "user_tz": -540
    },
    "id": "QznnuYqBJ9nQ"
   },
   "outputs": [],
   "source": [
    "import librosa\n",
    "import pandas as pd\n",
    "import numpy as np"
   ]
  },
  {
   "cell_type": "code",
   "execution_count": 22,
   "metadata": {
    "executionInfo": {
     "elapsed": 987,
     "status": "ok",
     "timestamp": 1614507885123,
     "user": {
      "displayName": "Hooncheol Shin",
      "photoUrl": "https://lh3.googleusercontent.com/a-/AOh14GgOP8xftDNxLBTGt9RYgJKhihLZm89rKAIFTVIf=s64",
      "userId": "09924783447560152895"
     },
     "user_tz": -540
    },
    "id": "bpEXECEqJ9nR"
   },
   "outputs": [],
   "source": [
    "example_audio_path = './example/꿩+klankbeeld.wav'\n",
    "example_label_path = './example/꿩+klankbeeld.txt'\n",
    "\n",
    "frame_size = 1\n",
    "stride = 0.2"
   ]
  },
  {
   "cell_type": "code",
   "execution_count": 23,
   "metadata": {
    "executionInfo": {
     "elapsed": 2607,
     "status": "ok",
     "timestamp": 1614507888776,
     "user": {
      "displayName": "Hooncheol Shin",
      "photoUrl": "https://lh3.googleusercontent.com/a-/AOh14GgOP8xftDNxLBTGt9RYgJKhihLZm89rKAIFTVIf=s64",
      "userId": "09924783447560152895"
     },
     "user_tz": -540
    },
    "id": "CMtECVwMJ9nR"
   },
   "outputs": [],
   "source": [
    "example_audio, example_sr = librosa.load(example_audio_path)"
   ]
  },
  {
   "cell_type": "code",
   "execution_count": 24,
   "metadata": {
    "colab": {
     "base_uri": "https://localhost:8080/"
    },
    "executionInfo": {
     "elapsed": 990,
     "status": "ok",
     "timestamp": 1614507891739,
     "user": {
      "displayName": "Hooncheol Shin",
      "photoUrl": "https://lh3.googleusercontent.com/a-/AOh14GgOP8xftDNxLBTGt9RYgJKhihLZm89rKAIFTVIf=s64",
      "userId": "09924783447560152895"
     },
     "user_tz": -540
    },
    "id": "FjlwsMTbJ9nR",
    "outputId": "d9b94a8b-77b7-4306-b797-8b27172edc1d"
   },
   "outputs": [
    {
     "name": "stdout",
     "output_type": "stream",
     "text": [
      "audio 벡터 길이 : 85604    \n",
      "audio 파일 길이 : 3.882267573696145 초\n"
     ]
    }
   ],
   "source": [
    "print(\n",
    "    f'audio 벡터 길이 : {len(example_audio)}\\\n",
    "    \\naudio 파일 길이 : {len(example_audio) / example_sr} 초'\n",
    "    \n",
    ")"
   ]
  },
  {
   "cell_type": "code",
   "execution_count": 25,
   "metadata": {
    "executionInfo": {
     "elapsed": 1398,
     "status": "ok",
     "timestamp": 1614507901438,
     "user": {
      "displayName": "Hooncheol Shin",
      "photoUrl": "https://lh3.googleusercontent.com/a-/AOh14GgOP8xftDNxLBTGt9RYgJKhihLZm89rKAIFTVIf=s64",
      "userId": "09924783447560152895"
     },
     "user_tz": -540
    },
    "id": "4qtATp76J9nR"
   },
   "outputs": [],
   "source": [
    "example_label = pd.read_csv(\n",
    "    example_label_path, sep='\\t', names=['start(s)', 'end(s)', 'label']\n",
    ")"
   ]
  },
  {
   "cell_type": "code",
   "execution_count": 26,
   "metadata": {
    "colab": {
     "base_uri": "https://localhost:8080/"
    },
    "executionInfo": {
     "elapsed": 1096,
     "status": "ok",
     "timestamp": 1614507904891,
     "user": {
      "displayName": "Hooncheol Shin",
      "photoUrl": "https://lh3.googleusercontent.com/a-/AOh14GgOP8xftDNxLBTGt9RYgJKhihLZm89rKAIFTVIf=s64",
      "userId": "09924783447560152895"
     },
     "user_tz": -540
    },
    "id": "ctD7ANw3J9nR",
    "outputId": "2777fbb5-a728-4e5f-cfe1-2814dfeb4748"
   },
   "outputs": [
    {
     "name": "stdout",
     "output_type": "stream",
     "text": [
      "label :    \n",
      "   start(s)    end(s)  label\n",
      "0   0.00000  1.191226      0\n",
      "1   1.33714  3.210092      0\n"
     ]
    }
   ],
   "source": [
    "print(\n",
    "    f'label :\\\n",
    "    \\n{example_label}'\n",
    ")"
   ]
  },
  {
   "cell_type": "code",
   "execution_count": 27,
   "metadata": {
    "executionInfo": {
     "elapsed": 1060,
     "status": "ok",
     "timestamp": 1614507908059,
     "user": {
      "displayName": "Hooncheol Shin",
      "photoUrl": "https://lh3.googleusercontent.com/a-/AOh14GgOP8xftDNxLBTGt9RYgJKhihLZm89rKAIFTVIf=s64",
      "userId": "09924783447560152895"
     },
     "user_tz": -540
    },
    "id": "kEBTKFS1J9nS"
   },
   "outputs": [],
   "source": [
    "idx = example_label['end(s)'] - example_label['start(s)'] > frame_size\n",
    "\n",
    "example_label = example_label[idx]"
   ]
  },
  {
   "cell_type": "code",
   "execution_count": 28,
   "metadata": {
    "executionInfo": {
     "elapsed": 982,
     "status": "ok",
     "timestamp": 1614507908476,
     "user": {
      "displayName": "Hooncheol Shin",
      "photoUrl": "https://lh3.googleusercontent.com/a-/AOh14GgOP8xftDNxLBTGt9RYgJKhihLZm89rKAIFTVIf=s64",
      "userId": "09924783447560152895"
     },
     "user_tz": -540
    },
    "id": "S0SOWSomJ9nS"
   },
   "outputs": [],
   "source": [
    "each_n_frames = (\n",
    "    np.floor(\n",
    "        (\n",
    "            (\n",
    "                (example_label['end(s)'] - example_label['start(s)']) - frame_size\n",
    "            ) / stride\n",
    "        ) + 1\n",
    "    )\n",
    ").astype(int).values"
   ]
  },
  {
   "cell_type": "code",
   "execution_count": 29,
   "metadata": {
    "executionInfo": {
     "elapsed": 1615,
     "status": "ok",
     "timestamp": 1614507909849,
     "user": {
      "displayName": "Hooncheol Shin",
      "photoUrl": "https://lh3.googleusercontent.com/a-/AOh14GgOP8xftDNxLBTGt9RYgJKhihLZm89rKAIFTVIf=s64",
      "userId": "09924783447560152895"
     },
     "user_tz": -540
    },
    "id": "q5aVs6w2J9nS"
   },
   "outputs": [],
   "source": [
    "total_n_frames = sum(each_n_frames)"
   ]
  },
  {
   "cell_type": "code",
   "execution_count": 30,
   "metadata": {
    "colab": {
     "base_uri": "https://localhost:8080/"
    },
    "executionInfo": {
     "elapsed": 941,
     "status": "ok",
     "timestamp": 1614507909850,
     "user": {
      "displayName": "Hooncheol Shin",
      "photoUrl": "https://lh3.googleusercontent.com/a-/AOh14GgOP8xftDNxLBTGt9RYgJKhihLZm89rKAIFTVIf=s64",
      "userId": "09924783447560152895"
     },
     "user_tz": -540
    },
    "id": "ensjXAqhJ9nS",
    "outputId": "3cee2870-b4d9-4e3e-b0f6-cba84307df1f"
   },
   "outputs": [
    {
     "name": "stdout",
     "output_type": "stream",
     "text": [
      "각각의 구간마다 프레임 개수 : [1 5]\n",
      "총 구간의 프레임 개수 : 6\n"
     ]
    }
   ],
   "source": [
    "print(f'각각의 구간마다 프레임 개수 : {each_n_frames}')\n",
    "print(f'총 구간의 프레임 개수 : {total_n_frames}')"
   ]
  },
  {
   "cell_type": "code",
   "execution_count": 31,
   "metadata": {
    "executionInfo": {
     "elapsed": 706,
     "status": "ok",
     "timestamp": 1614507910310,
     "user": {
      "displayName": "Hooncheol Shin",
      "photoUrl": "https://lh3.googleusercontent.com/a-/AOh14GgOP8xftDNxLBTGt9RYgJKhihLZm89rKAIFTVIf=s64",
      "userId": "09924783447560152895"
     },
     "user_tz": -540
    },
    "id": "PlOHQJw-J9nS"
   },
   "outputs": [],
   "source": [
    "frame_vectors = np.zeros((int(total_n_frames), frame_size * example_sr))\n",
    "target_vectors = np.zeros((int(total_n_frames)))"
   ]
  },
  {
   "cell_type": "code",
   "execution_count": 32,
   "metadata": {
    "colab": {
     "base_uri": "https://localhost:8080/"
    },
    "executionInfo": {
     "elapsed": 1020,
     "status": "ok",
     "timestamp": 1614507911284,
     "user": {
      "displayName": "Hooncheol Shin",
      "photoUrl": "https://lh3.googleusercontent.com/a-/AOh14GgOP8xftDNxLBTGt9RYgJKhihLZm89rKAIFTVIf=s64",
      "userId": "09924783447560152895"
     },
     "user_tz": -540
    },
    "id": "MRz3-hVGJ9nS",
    "outputId": "ab4e6cb8-87ef-4a40-d358-aca0254813bd"
   },
   "outputs": [
    {
     "name": "stdout",
     "output_type": "stream",
     "text": [
      "frame_vectors의 shape : (6, 22050)    \n",
      "target_vectors의 shape : (6,)\n"
     ]
    }
   ],
   "source": [
    "print(\n",
    "    f'frame_vectors의 shape : {frame_vectors.shape}\\\n",
    "    \\ntarget_vectors의 shape : {target_vectors.shape}'\n",
    ")"
   ]
  },
  {
   "cell_type": "code",
   "execution_count": 33,
   "metadata": {
    "colab": {
     "base_uri": "https://localhost:8080/"
    },
    "executionInfo": {
     "elapsed": 764,
     "status": "ok",
     "timestamp": 1614507911716,
     "user": {
      "displayName": "Hooncheol Shin",
      "photoUrl": "https://lh3.googleusercontent.com/a-/AOh14GgOP8xftDNxLBTGt9RYgJKhihLZm89rKAIFTVIf=s64",
      "userId": "09924783447560152895"
     },
     "user_tz": -540
    },
    "id": "6joArRW0J9nT",
    "outputId": "fe600fc9-fb8b-4d66-bdaa-794075e6be6b"
   },
   "outputs": [
    {
     "name": "stdout",
     "output_type": "stream",
     "text": [
      "0-th frame vector[:5] : [0. 0. 0. 0. 0.]\n",
      "1-th frame vector[:5] : [0. 0. 0. 0. 0.]\n",
      "2-th frame vector[:5] : [0. 0. 0. 0. 0.]\n",
      "3-th frame vector[:5] : [0. 0. 0. 0. 0.]\n",
      "4-th frame vector[:5] : [0. 0. 0. 0. 0.]\n",
      "5-th frame vector[:5] : [0. 0. 0. 0. 0.]\n",
      "target_vectors : [0. 0. 0. 0. 0. 0.]\n"
     ]
    }
   ],
   "source": [
    "for i in range(len(frame_vectors)):\n",
    "    print(f'{i}-th frame vector[:5] : {frame_vectors[i][:5]}')\n",
    "print(f'target_vectors : {target_vectors}')"
   ]
  },
  {
   "cell_type": "code",
   "execution_count": 34,
   "metadata": {
    "colab": {
     "base_uri": "https://localhost:8080/"
    },
    "executionInfo": {
     "elapsed": 1010,
     "status": "ok",
     "timestamp": 1614507913195,
     "user": {
      "displayName": "Hooncheol Shin",
      "photoUrl": "https://lh3.googleusercontent.com/a-/AOh14GgOP8xftDNxLBTGt9RYgJKhihLZm89rKAIFTVIf=s64",
      "userId": "09924783447560152895"
     },
     "user_tz": -540
    },
    "id": "uiz8OyO4J9nT",
    "outputId": "30ec9b46-336c-48ed-9ded-3a636a22b723"
   },
   "outputs": [
    {
     "name": "stdout",
     "output_type": "stream",
     "text": [
      "frame vectors의 shape : (6, 22050)\n"
     ]
    }
   ],
   "source": [
    "print(\n",
    "    f'frame vectors의 shape : {frame_vectors.shape}'\n",
    ")"
   ]
  },
  {
   "cell_type": "code",
   "execution_count": 35,
   "metadata": {
    "executionInfo": {
     "elapsed": 635,
     "status": "ok",
     "timestamp": 1614507913731,
     "user": {
      "displayName": "Hooncheol Shin",
      "photoUrl": "https://lh3.googleusercontent.com/a-/AOh14GgOP8xftDNxLBTGt9RYgJKhihLZm89rKAIFTVIf=s64",
      "userId": "09924783447560152895"
     },
     "user_tz": -540
    },
    "id": "8e40ip8LJ9nT"
   },
   "outputs": [],
   "source": [
    "current_idx = 0\n",
    "\n",
    "for i, (start, end, y) in example_label.iterrows():\n",
    "    for j in range(each_n_frames[i]):\n",
    "        start_idx = int((start + j * stride) * example_sr)\n",
    "        end_idx = start_idx + frame_size * example_sr\n",
    "        frame_vectors[current_idx] = example_audio[start_idx:end_idx]\n",
    "        target_vectors[current_idx] = y\n",
    "        current_idx += 1"
   ]
  },
  {
   "cell_type": "code",
   "execution_count": 36,
   "metadata": {
    "colab": {
     "base_uri": "https://localhost:8080/"
    },
    "executionInfo": {
     "elapsed": 768,
     "status": "ok",
     "timestamp": 1614507914710,
     "user": {
      "displayName": "Hooncheol Shin",
      "photoUrl": "https://lh3.googleusercontent.com/a-/AOh14GgOP8xftDNxLBTGt9RYgJKhihLZm89rKAIFTVIf=s64",
      "userId": "09924783447560152895"
     },
     "user_tz": -540
    },
    "id": "kXj2-EgdJ9nT",
    "outputId": "4fef326c-62cb-4101-be3b-0d687327c7cc"
   },
   "outputs": [
    {
     "name": "stdout",
     "output_type": "stream",
     "text": [
      "frame_vectors의 shape : (6, 22050)    \n",
      "target_vectors의 shape : (6,)\n"
     ]
    }
   ],
   "source": [
    "print(\n",
    "    f'frame_vectors의 shape : {frame_vectors.shape}\\\n",
    "    \\ntarget_vectors의 shape : {target_vectors.shape}'\n",
    ")"
   ]
  },
  {
   "cell_type": "code",
   "execution_count": 37,
   "metadata": {
    "colab": {
     "base_uri": "https://localhost:8080/"
    },
    "executionInfo": {
     "elapsed": 1162,
     "status": "ok",
     "timestamp": 1614507915906,
     "user": {
      "displayName": "Hooncheol Shin",
      "photoUrl": "https://lh3.googleusercontent.com/a-/AOh14GgOP8xftDNxLBTGt9RYgJKhihLZm89rKAIFTVIf=s64",
      "userId": "09924783447560152895"
     },
     "user_tz": -540
    },
    "id": "a3ffG88bJ9nT",
    "outputId": "6d05235e-9529-4d7b-fd94-18592b0c73a8"
   },
   "outputs": [
    {
     "name": "stdout",
     "output_type": "stream",
     "text": [
      "0-th frame vector[:5] : [-0.00265772  0.00103548  0.00018767 -0.00690498 -0.00465354]\n",
      "1-th frame vector[:5] : [0.00462255 0.00474213 0.00503599 0.00415416 0.00215303]\n",
      "2-th frame vector[:5] : [0.01052688 0.01409292 0.0158177  0.01223616 0.00895123]\n",
      "3-th frame vector[:5] : [-0.00730914 -0.01086354 -0.0084091  -0.01000284 -0.01859629]\n",
      "4-th frame vector[:5] : [0.05644109 0.06171763 0.05151632 0.03100646 0.016623  ]\n",
      "5-th frame vector[:5] : [-0.001992   -0.00298869  0.00015296  0.00136695 -0.00181217]\n",
      "target_vectors : [0. 0. 0. 0. 0. 0.]\n"
     ]
    }
   ],
   "source": [
    "for i in range(len(frame_vectors)):\n",
    "    print(f'{i}-th frame vector[:5] : {frame_vectors[i][:5]}')\n",
    "print(f'target_vectors : {target_vectors}')"
   ]
  },
  {
   "cell_type": "markdown",
   "metadata": {
    "id": "1xfPlroYJ9nU"
   },
   "source": [
    "## Feature Extraction: Mel Spectrogram"
   ]
  },
  {
   "cell_type": "code",
   "execution_count": 38,
   "metadata": {
    "colab": {
     "base_uri": "https://localhost:8080/",
     "height": 317
    },
    "executionInfo": {
     "elapsed": 1446,
     "status": "error",
     "timestamp": 1614507858070,
     "user": {
      "displayName": "Hooncheol Shin",
      "photoUrl": "https://lh3.googleusercontent.com/a-/AOh14GgOP8xftDNxLBTGt9RYgJKhihLZm89rKAIFTVIf=s64",
      "userId": "09924783447560152895"
     },
     "user_tz": -540
    },
    "id": "szBogMn6J9nU",
    "outputId": "1cf1f412-072c-449d-ce95-72e360f61d06"
   },
   "outputs": [],
   "source": [
    "from matplotlib import pyplot as plt\n",
    "import sounddevice as sd\n",
    "from librosa.display import specshow"
   ]
  },
  {
   "cell_type": "code",
   "execution_count": 39,
   "metadata": {
    "executionInfo": {
     "elapsed": 1422,
     "status": "aborted",
     "timestamp": 1614507858058,
     "user": {
      "displayName": "Hooncheol Shin",
      "photoUrl": "https://lh3.googleusercontent.com/a-/AOh14GgOP8xftDNxLBTGt9RYgJKhihLZm89rKAIFTVIf=s64",
      "userId": "09924783447560152895"
     },
     "user_tz": -540
    },
    "id": "S66rq6DPJ9nU"
   },
   "outputs": [],
   "source": [
    "y = frame_vectors[1]"
   ]
  },
  {
   "cell_type": "code",
   "execution_count": 40,
   "metadata": {
    "executionInfo": {
     "elapsed": 1424,
     "status": "aborted",
     "timestamp": 1614507858062,
     "user": {
      "displayName": "Hooncheol Shin",
      "photoUrl": "https://lh3.googleusercontent.com/a-/AOh14GgOP8xftDNxLBTGt9RYgJKhihLZm89rKAIFTVIf=s64",
      "userId": "09924783447560152895"
     },
     "user_tz": -540
    },
    "id": "62VcmThTJ9nU"
   },
   "outputs": [],
   "source": [
    "sd.play(y)"
   ]
  },
  {
   "cell_type": "code",
   "execution_count": 41,
   "metadata": {
    "executionInfo": {
     "elapsed": 1416,
     "status": "aborted",
     "timestamp": 1614507858062,
     "user": {
      "displayName": "Hooncheol Shin",
      "photoUrl": "https://lh3.googleusercontent.com/a-/AOh14GgOP8xftDNxLBTGt9RYgJKhihLZm89rKAIFTVIf=s64",
      "userId": "09924783447560152895"
     },
     "user_tz": -540
    },
    "id": "YrdFzSlqJ9nU"
   },
   "outputs": [
    {
     "name": "stdout",
     "output_type": "stream",
     "text": [
      "벡터의 shape : (22050,)    \n",
      "벡터의 대략적인 모습은.. :\n",
      " [ 0.00462255  0.00474213  0.00503599 ... -0.00755864 -0.00101585\n",
      "  0.00437011]\n"
     ]
    }
   ],
   "source": [
    "print(\n",
    "    f'벡터의 shape : {y.shape}\\\n",
    "    \\n벡터의 대략적인 모습은.. :\\n {y}'\n",
    ")"
   ]
  },
  {
   "cell_type": "code",
   "execution_count": 42,
   "metadata": {
    "executionInfo": {
     "elapsed": 1414,
     "status": "aborted",
     "timestamp": 1614507858063,
     "user": {
      "displayName": "Hooncheol Shin",
      "photoUrl": "https://lh3.googleusercontent.com/a-/AOh14GgOP8xftDNxLBTGt9RYgJKhihLZm89rKAIFTVIf=s64",
      "userId": "09924783447560152895"
     },
     "user_tz": -540
    },
    "id": "K6ajEuqAJ9nV"
   },
   "outputs": [],
   "source": [
    "x = [t / example_sr for t in range(len(y))]"
   ]
  },
  {
   "cell_type": "code",
   "execution_count": 43,
   "metadata": {
    "executionInfo": {
     "elapsed": 1406,
     "status": "aborted",
     "timestamp": 1614507858063,
     "user": {
      "displayName": "Hooncheol Shin",
      "photoUrl": "https://lh3.googleusercontent.com/a-/AOh14GgOP8xftDNxLBTGt9RYgJKhihLZm89rKAIFTVIf=s64",
      "userId": "09924783447560152895"
     },
     "user_tz": -540
    },
    "id": "rGIDwstoJ9nV"
   },
   "outputs": [
    {
     "data": {
      "image/png": "[encoded data removed]",
      "text/plain": [
       "<Figure size 720x432 with 1 Axes>"
      ]
     },
     "metadata": {
      "needs_background": "light"
     },
     "output_type": "display_data"
    }
   ],
   "source": [
    "plt.figure(figsize=(10, 6))\n",
    "plt.plot(x, y)\n",
    "plt.title('Example Data (bird sound)', fontsize=20)\n",
    "plt.xlabel('Time (sec)', fontsize=16)\n",
    "plt.ylabel('Signal Amplitude', fontsize=16)\n",
    "plt.show()\n"
   ]
  },
  {
   "cell_type": "code",
   "execution_count": 44,
   "metadata": {
    "executionInfo": {
     "elapsed": 1399,
     "status": "aborted",
     "timestamp": 1614507858064,
     "user": {
      "displayName": "Hooncheol Shin",
      "photoUrl": "https://lh3.googleusercontent.com/a-/AOh14GgOP8xftDNxLBTGt9RYgJKhihLZm89rKAIFTVIf=s64",
      "userId": "09924783447560152895"
     },
     "user_tz": -540
    },
    "id": "jYZL0syTJ9nV"
   },
   "outputs": [
    {
     "data": {
      "image/png": "[encoded data removed]",
      "text/plain": [
       "<Figure size 720x432 with 1 Axes>"
      ]
     },
     "metadata": {
      "needs_background": "light"
     },
     "output_type": "display_data"
    }
   ],
   "source": [
    "plt.figure(figsize=(10, 6))\n",
    "plt.plot(x, y)\n",
    "plt.title('Example Data (bird sound)', fontsize=20)\n",
    "plt.xlabel('Time (sec)', fontsize=16)\n",
    "plt.ylabel('Signal Amplitude', fontsize=16)\n",
    "plt.axvspan(xmin=0, xmax=2048 / example_sr, color='gray', alpha=0.5)\n",
    "plt.axvspan(\n",
    "    xmin=512 / example_sr, xmax=(2048 + 512) / example_sr,\n",
    "    color='orange', alpha=0.5\n",
    ")\n",
    "plt.show()"
   ]
  },
  {
   "cell_type": "code",
   "execution_count": 45,
   "metadata": {
    "executionInfo": {
     "elapsed": 1392,
     "status": "aborted",
     "timestamp": 1614507858064,
     "user": {
      "displayName": "Hooncheol Shin",
      "photoUrl": "https://lh3.googleusercontent.com/a-/AOh14GgOP8xftDNxLBTGt9RYgJKhihLZm89rKAIFTVIf=s64",
      "userId": "09924783447560152895"
     },
     "user_tz": -540
    },
    "id": "YOESitG5J9nV"
   },
   "outputs": [
    {
     "data": {
      "image/png": "[encoded data removed]",
      "text/plain": [
       "<Figure size 720x432 with 1 Axes>"
      ]
     },
     "metadata": {
      "needs_background": "light"
     },
     "output_type": "display_data"
    }
   ],
   "source": [
    "plt.figure(figsize=(10, 6))\n",
    "plt.plot(x, y)\n",
    "plt.title('Example Data (bird sound)', fontsize=20)\n",
    "plt.xlabel('Time (sec)', fontsize=16)\n",
    "plt.ylabel('Signal Amplitude', fontsize=16)\n",
    "plt.axvspan(\n",
    "    xmin=0, xmax=2048 / example_sr, color='gray', alpha=0.5\n",
    ")\n",
    "plt.axvspan(\n",
    "    xmin=512 / example_sr, xmax=(2048 + 512 ) / example_sr,\n",
    "    color='orange', alpha=0.5\n",
    ")\n",
    "plt.axvspan(\n",
    "    xmin=(example_sr - 2048) / example_sr, xmax=example_sr / example_sr,\n",
    "    color='darkgoldenrod', alpha=0.5\n",
    ")\n",
    "plt.show()"
   ]
  },
  {
   "cell_type": "code",
   "execution_count": 46,
   "metadata": {
    "executionInfo": {
     "elapsed": 1391,
     "status": "aborted",
     "timestamp": 1614507858065,
     "user": {
      "displayName": "Hooncheol Shin",
      "photoUrl": "https://lh3.googleusercontent.com/a-/AOh14GgOP8xftDNxLBTGt9RYgJKhihLZm89rKAIFTVIf=s64",
      "userId": "09924783447560152895"
     },
     "user_tz": -540
    },
    "id": "lvPi_qiqJ9nW"
   },
   "outputs": [],
   "source": [
    "S = librosa.feature.melspectrogram(y=y, sr=example_sr)"
   ]
  },
  {
   "cell_type": "code",
   "execution_count": 47,
   "metadata": {
    "executionInfo": {
     "elapsed": 1384,
     "status": "aborted",
     "timestamp": 1614507858065,
     "user": {
      "displayName": "Hooncheol Shin",
      "photoUrl": "https://lh3.googleusercontent.com/a-/AOh14GgOP8xftDNxLBTGt9RYgJKhihLZm89rKAIFTVIf=s64",
      "userId": "09924783447560152895"
     },
     "user_tz": -540
    },
    "id": "RrByIGRgJ9nW"
   },
   "outputs": [
    {
     "data": {
      "text/plain": [
       "(128, 44)"
      ]
     },
     "execution_count": 47,
     "metadata": {},
     "output_type": "execute_result"
    }
   ],
   "source": [
    "S.shape"
   ]
  },
  {
   "cell_type": "code",
   "execution_count": 50,
   "metadata": {
    "executionInfo": {
     "elapsed": 1378,
     "status": "aborted",
     "timestamp": 1614507858066,
     "user": {
      "displayName": "Hooncheol Shin",
      "photoUrl": "https://lh3.googleusercontent.com/a-/AOh14GgOP8xftDNxLBTGt9RYgJKhihLZm89rKAIFTVIf=s64",
      "userId": "09924783447560152895"
     },
     "user_tz": -540
    },
    "id": "0nOBdjkxJ9nW"
   },
   "outputs": [
    {
     "data": {
      "image/png": "[encoded data removed]",
      "text/plain": [
       "<Figure size 432x288 with 2 Axes>"
      ]
     },
     "metadata": {
      "needs_background": "light"
     },
     "output_type": "display_data"
    }
   ],
   "source": [
    "fig, ax = plt.subplots()\n",
    "S_dB = librosa.power_to_db(S, ref=np.max)\n",
    "img = specshow(\n",
    "    S_dB, x_axis='time', y_axis='mel',\n",
    "    sr=example_sr, fmax=8000, ax=ax\n",
    ")\n",
    "fig.colorbar(img, ax=ax, format='%+2.0f dB')\n",
    "ax.set(title='Mel-frequency spectrogram')\n",
    "plt.show()"
   ]
  },
  {
   "cell_type": "code",
   "execution_count": 49,
   "metadata": {
    "executionInfo": {
     "elapsed": 1371,
     "status": "aborted",
     "timestamp": 1614507858066,
     "user": {
      "displayName": "Hooncheol Shin",
      "photoUrl": "https://lh3.googleusercontent.com/a-/AOh14GgOP8xftDNxLBTGt9RYgJKhihLZm89rKAIFTVIf=s64",
      "userId": "09924783447560152895"
     },
     "user_tz": -540
    },
    "id": "rhKgPXaGJ9nW"
   },
   "outputs": [
    {
     "data": {
      "image/png": "[encoded data removed]",
      "text/plain": [
       "<Figure size 432x288 with 2 Axes>"
      ]
     },
     "metadata": {
      "needs_background": "light"
     },
     "output_type": "display_data"
    }
   ],
   "source": [
    "fig, ax = plt.subplots()\n",
    "img = specshow(\n",
    "    S, x_axis='time', y_axis='mel',\n",
    "    sr=example_sr, fmax=8000, ax=ax\n",
    ")\n",
    "fig.colorbar(img, ax=ax, format='%+2.0f dB')\n",
    "ax.set(title='Mel-frequency spectrogram')\n",
    "plt.show()"
   ]
  },
  {
   "cell_type": "code",
   "execution_count": 51,
   "metadata": {
    "executionInfo": {
     "elapsed": 1364,
     "status": "aborted",
     "timestamp": 1614507858067,
     "user": {
      "displayName": "Hooncheol Shin",
      "photoUrl": "https://lh3.googleusercontent.com/a-/AOh14GgOP8xftDNxLBTGt9RYgJKhihLZm89rKAIFTVIf=s64",
      "userId": "09924783447560152895"
     },
     "user_tz": -540
    },
    "id": "2YsCKQbfJ9nW"
   },
   "outputs": [
    {
     "name": "stdout",
     "output_type": "stream",
     "text": [
      "1초 신호 데이터는 다음과 같이 변합니다.    \n",
      "Before shape (signal) : (22050,)    \n",
      "After shape (Mel Spectrogram) : (128, 44)\n"
     ]
    }
   ],
   "source": [
    "print(\n",
    "    f'1초 신호 데이터는 다음과 같이 변합니다.\\\n",
    "    \\nBefore shape (signal) : {y.shape}\\\n",
    "    \\nAfter shape (Mel Spectrogram) : {S_dB.shape}'\n",
    ")"
   ]
  },
  {
   "cell_type": "code",
   "execution_count": 52,
   "metadata": {
    "executionInfo": {
     "elapsed": 1362,
     "status": "aborted",
     "timestamp": 1614507858067,
     "user": {
      "displayName": "Hooncheol Shin",
      "photoUrl": "https://lh3.googleusercontent.com/a-/AOh14GgOP8xftDNxLBTGt9RYgJKhihLZm89rKAIFTVIf=s64",
      "userId": "09924783447560152895"
     },
     "user_tz": -540
    },
    "id": "ahpvn0DRJ9nX"
   },
   "outputs": [],
   "source": [
    "S_power = librosa.db_to_power(S_dB)"
   ]
  },
  {
   "cell_type": "code",
   "execution_count": 53,
   "metadata": {
    "executionInfo": {
     "elapsed": 1361,
     "status": "aborted",
     "timestamp": 1614507858068,
     "user": {
      "displayName": "Hooncheol Shin",
      "photoUrl": "https://lh3.googleusercontent.com/a-/AOh14GgOP8xftDNxLBTGt9RYgJKhihLZm89rKAIFTVIf=s64",
      "userId": "09924783447560152895"
     },
     "user_tz": -540
    },
    "id": "2pkucsauJ9nX"
   },
   "outputs": [],
   "source": [
    "sd.play(y, 22050)"
   ]
  },
  {
   "cell_type": "code",
   "execution_count": 54,
   "metadata": {
    "executionInfo": {
     "elapsed": 1359,
     "status": "aborted",
     "timestamp": 1614507858068,
     "user": {
      "displayName": "Hooncheol Shin",
      "photoUrl": "https://lh3.googleusercontent.com/a-/AOh14GgOP8xftDNxLBTGt9RYgJKhihLZm89rKAIFTVIf=s64",
      "userId": "09924783447560152895"
     },
     "user_tz": -540
    },
    "id": "kX-G0lzCJ9nX"
   },
   "outputs": [],
   "source": [
    "sd.play(librosa.feature.inverse.mel_to_audio(S_power), 22050)"
   ]
  },
  {
   "cell_type": "code",
   "execution_count": 55,
   "metadata": {
    "executionInfo": {
     "elapsed": 1358,
     "status": "aborted",
     "timestamp": 1614507858069,
     "user": {
      "displayName": "Hooncheol Shin",
      "photoUrl": "https://lh3.googleusercontent.com/a-/AOh14GgOP8xftDNxLBTGt9RYgJKhihLZm89rKAIFTVIf=s64",
      "userId": "09924783447560152895"
     },
     "user_tz": -540
    },
    "id": "HG2sVv67J9nX"
   },
   "outputs": [],
   "source": [
    "sd.play(librosa.feature.inverse.mel_to_audio(S_dB), 22050)"
   ]
  },
  {
   "cell_type": "markdown",
   "metadata": {
    "id": "52MpW7O8J9nX"
   },
   "source": [
    "## 레이블 데이터 정리"
   ]
  },
  {
   "cell_type": "code",
   "execution_count": 56,
   "metadata": {
    "executionInfo": {
     "elapsed": 1180,
     "status": "ok",
     "timestamp": 1614595785273,
     "user": {
      "displayName": "Hooncheol Shin",
      "photoUrl": "https://lh3.googleusercontent.com/a-/AOh14GgOP8xftDNxLBTGt9RYgJKhihLZm89rKAIFTVIf=s64",
      "userId": "09924783447560152895"
     },
     "user_tz": -540
    },
    "id": "s-0eK7KMJ9nX"
   },
   "outputs": [],
   "source": [
    "from os import listdir\n",
    "from os.path import join, splitext\n",
    "import pandas as pd"
   ]
  },
  {
   "cell_type": "code",
   "execution_count": 57,
   "metadata": {
    "executionInfo": {
     "elapsed": 7870,
     "status": "ok",
     "timestamp": 1614595799938,
     "user": {
      "displayName": "Hooncheol Shin",
      "photoUrl": "https://lh3.googleusercontent.com/a-/AOh14GgOP8xftDNxLBTGt9RYgJKhihLZm89rKAIFTVIf=s64",
      "userId": "09924783447560152895"
     },
     "user_tz": -540
    },
    "id": "F3RTS2bTJ9nY"
   },
   "outputs": [],
   "source": [
    "label_path = './data/labels/'\n",
    "label_files = [\n",
    "    f for f in listdir(label_path)\n",
    "    if splitext(join(label_path, f))[-1] == '.txt'\n",
    "]"
   ]
  },
  {
   "cell_type": "code",
   "execution_count": 58,
   "metadata": {
    "colab": {
     "base_uri": "https://localhost:8080/"
    },
    "executionInfo": {
     "elapsed": 7556,
     "status": "ok",
     "timestamp": 1614595799939,
     "user": {
      "displayName": "Hooncheol Shin",
      "photoUrl": "https://lh3.googleusercontent.com/a-/AOh14GgOP8xftDNxLBTGt9RYgJKhihLZm89rKAIFTVIf=s64",
      "userId": "09924783447560152895"
     },
     "user_tz": -540
    },
    "id": "MFqmyjNCJ9nY",
    "outputId": "fed3f341-8c90-4f88-b4ca-cb9b22b9af88"
   },
   "outputs": [
    {
     "name": "stdout",
     "output_type": "stream",
     "text": [
      "label file 목록 예시 : ['gun5.txt', 'maleyell.txt', 'aarrgghh.txt']\n"
     ]
    }
   ],
   "source": [
    "print(\n",
    "    f'label file 목록 예시 : {label_files[:3]}'\n",
    ")"
   ]
  },
  {
   "cell_type": "code",
   "execution_count": 59,
   "metadata": {
    "colab": {
     "base_uri": "https://localhost:8080/"
    },
    "executionInfo": {
     "elapsed": 82083,
     "status": "ok",
     "timestamp": 1614595884924,
     "user": {
      "displayName": "Hooncheol Shin",
      "photoUrl": "https://lh3.googleusercontent.com/a-/AOh14GgOP8xftDNxLBTGt9RYgJKhihLZm89rKAIFTVIf=s64",
      "userId": "09924783447560152895"
     },
     "user_tz": -540
    },
    "id": "yAdCedc-J9nY",
    "outputId": "f1abec71-591a-46ed-ea15-70de9c9be87f"
   },
   "outputs": [],
   "source": [
    "list_file_fn = 'file_list.xlsx'  # (1)\n",
    "file_n = 0\n",
    "with pd.ExcelWriter(list_file_fn) as writer:  # (2)\n",
    "    audio_names = []  # (3)\n",
    "    for i, file_name in enumerate(label_files):\n",
    "        if file_name[:-3] + 'wav' not in listdir('./data/raw_data/'):\n",
    "            raise FileNotFoundErrorError('file not match')\n",
    "        if file_name[:-3] + 'wav' in listdir('./data/raw_data/'):\n",
    "            temp = pd.read_csv(label_path + file_name, sep='\\t', header=None)\n",
    "            temp.columns = ['start(s)', 'end(s)', 'label']\n",
    "            temp.to_excel(writer, index=False, sheet_name=str(file_n))  # (4)\n",
    "            file_n += 1\n",
    "            audio_names.append(file_name[:-3] + 'wav')  # (5)\n",
    "        if i == len(label_files) - 1:  # (6)\n",
    "            pd.DataFrame(\n",
    "                audio_names, columns=['audio_name']\n",
    "            ).to_excel(writer, sheet_name='list')"
   ]
  },
  {
   "cell_type": "markdown",
   "metadata": {
    "id": "XCxebgRXJ9nY"
   },
   "source": [
    "## 전체 데이터 전처리"
   ]
  },
  {
   "cell_type": "code",
   "execution_count": 60,
   "metadata": {
    "executionInfo": {
     "elapsed": 53135,
     "status": "ok",
     "timestamp": 1614595888299,
     "user": {
      "displayName": "Hooncheol Shin",
      "photoUrl": "https://lh3.googleusercontent.com/a-/AOh14GgOP8xftDNxLBTGt9RYgJKhihLZm89rKAIFTVIf=s64",
      "userId": "09924783447560152895"
     },
     "user_tz": -540
    },
    "id": "X_X69BA4J9nY"
   },
   "outputs": [],
   "source": [
    "import time\n",
    "import math\n",
    "\n",
    "import numpy as np\n",
    "import pandas as pd\n",
    "from tqdm import tqdm\n",
    "import librosa\n",
    "from torch.utils.data import Dataset, DataLoader"
   ]
  },
  {
   "cell_type": "code",
   "execution_count": 61,
   "metadata": {
    "executionInfo": {
     "elapsed": 814,
     "status": "ok",
     "timestamp": 1614595889902,
     "user": {
      "displayName": "Hooncheol Shin",
      "photoUrl": "https://lh3.googleusercontent.com/a-/AOh14GgOP8xftDNxLBTGt9RYgJKhihLZm89rKAIFTVIf=s64",
      "userId": "09924783447560152895"
     },
     "user_tz": -540
    },
    "id": "n85jWudQJ9nZ"
   },
   "outputs": [],
   "source": [
    "def load_label_data(file_path, i, frame_size):\n",
    "    audio_label = pd.read_excel(file_path, sheet_name=str(i))  # (1)\n",
    "    audio_label['label'] = audio_label['label'].apply(lambda x: int(str(x)[0]))\n",
    " \n",
    "    audio_label = np.array(audio_label)  # (2)\n",
    "    audio_label = audio_label[\n",
    "        (audio_label[:, 1] - audio_label[:, 0] > frame_size)\n",
    "    ]  # (3)\n",
    "    return audio_label\n",
    " \n",
    "def load_sound_data(file_path, sampling_rate):\n",
    "    audio, sr = librosa.load(file_path, sr=sampling_rate)  # (4)\n",
    "    return audio, sr"
   ]
  },
  {
   "cell_type": "code",
   "execution_count": 62,
   "metadata": {
    "executionInfo": {
     "elapsed": 803,
     "status": "ok",
     "timestamp": 1614595889903,
     "user": {
      "displayName": "Hooncheol Shin",
      "photoUrl": "https://lh3.googleusercontent.com/a-/AOh14GgOP8xftDNxLBTGt9RYgJKhihLZm89rKAIFTVIf=s64",
      "userId": "09924783447560152895"
     },
     "user_tz": -540
    },
    "id": "hbY9aYHkbDFF"
   },
   "outputs": [],
   "source": [
    "def process_frame(audio, sr, label, frame_size=1, stride=0.2):\n",
    "    n = np.sum(\n",
    "        np.floor(\n",
    "            ((label[:, 1] - label[:, 0]) - frame_size) / stride + frame_size\n",
    "        )\n",
    "    )  # (1)\n",
    " \n",
    "    frame_vector = np.zeros((int(n), frame_size * sr))  # (2)\n",
    "    target_vector = np.zeros((int(n), 1))  # (3)\n",
    " \n",
    "    i = 0\n",
    " \n",
    "    for temp_label in label:  # (4)\n",
    "        start = temp_label[0]  # (5)\n",
    "        end = temp_label[1]  # (6)\n",
    "        y = temp_label[2]  # (7)\n",
    " \n",
    "        eter = int(np.floor((((end - start) - frame_size) / stride) + 1))  # (8)\n",
    " \n",
    "        for j in range(eter):  # (9)\n",
    "            start_idx = int((start + j * stride) * sr)\n",
    "            end_idx = start_idx + frame_size * sr\n",
    "            frame_vector[i] = audio[start_idx:end_idx]  # (10)\n",
    "            target_vector[i] = y  # (11)\n",
    "            i += 1\n",
    "    return frame_vector, target_vector"
   ]
  },
  {
   "cell_type": "code",
   "execution_count": 63,
   "metadata": {
    "executionInfo": {
     "elapsed": 791,
     "status": "ok",
     "timestamp": 1614595889903,
     "user": {
      "displayName": "Hooncheol Shin",
      "photoUrl": "https://lh3.googleusercontent.com/a-/AOh14GgOP8xftDNxLBTGt9RYgJKhihLZm89rKAIFTVIf=s64",
      "userId": "09924783447560152895"
     },
     "user_tz": -540
    },
    "id": "ru7SpSTta3L9"
   },
   "outputs": [],
   "source": [
    "def extract_mel_feature(frame_vector, sr, n_mels, st=512):\n",
    "    mel_feature = librosa.feature.melspectrogram(\n",
    "        y=frame_vector, sr=sr, n_mels=n_mels, hop_length=st\n",
    "    )  # (1)\n",
    "    mel_feature = librosa.core.power_to_db(\n",
    "        mel_feature, ref=np.max\n",
    "    )  # (2)\n",
    "    return mel_feature"
   ]
  },
  {
   "cell_type": "code",
   "execution_count": 64,
   "metadata": {
    "executionInfo": {
     "elapsed": 781,
     "status": "ok",
     "timestamp": 1614595889904,
     "user": {
      "displayName": "Hooncheol Shin",
      "photoUrl": "https://lh3.googleusercontent.com/a-/AOh14GgOP8xftDNxLBTGt9RYgJKhihLZm89rKAIFTVIf=s64",
      "userId": "09924783447560152895"
     },
     "user_tz": -540
    },
    "id": "bJp_STumSlTC"
   },
   "outputs": [],
   "source": [
    "def extract_mel_power_feature(frame_vector, sr, n_mels, st=512):\n",
    "    mel_feature = librosa.feature.melspectrogram(\n",
    "        y=frame_vector, sr=sr, n_mels=n_mels, hop_length=st\n",
    "    )  # (1)\n",
    "    return mel_feature"
   ]
  },
  {
   "cell_type": "code",
   "execution_count": 65,
   "metadata": {
    "colab": {
     "base_uri": "https://localhost:8080/"
    },
    "executionInfo": {
     "elapsed": 764479,
     "status": "ok",
     "timestamp": 1614596658415,
     "user": {
      "displayName": "Hooncheol Shin",
      "photoUrl": "https://lh3.googleusercontent.com/a-/AOh14GgOP8xftDNxLBTGt9RYgJKhihLZm89rKAIFTVIf=s64",
      "userId": "09924783447560152895"
     },
     "user_tz": -540
    },
    "id": "6HmTodeucFwa",
    "outputId": "572d0cf9-41d3-4e7a-ceb1-09eebd932e5c"
   },
   "outputs": [
    {
     "name": "stdout",
     "output_type": "stream",
     "text": [
      "0-th 파일을 처리하고 있습니다.\n",
      "1-th 파일을 처리하고 있습니다.\n",
      "2-th 파일을 처리하고 있습니다.\n",
      "3-th 파일을 처리하고 있습니다.\n",
      "4-th 파일을 처리하고 있습니다.\n",
      "5-th 파일을 처리하고 있습니다.\n",
      "6-th 파일을 처리하고 있습니다.\n",
      "7-th 파일을 처리하고 있습니다.\n",
      "8-th 파일을 처리하고 있습니다.\n",
      "9-th 파일을 처리하고 있습니다.\n",
      "10-th 파일을 처리하고 있습니다.\n",
      "11-th 파일을 처리하고 있습니다.\n",
      "12-th 파일을 처리하고 있습니다.\n",
      "13-th 파일을 처리하고 있습니다.\n",
      "14-th 파일을 처리하고 있습니다.\n",
      "15-th 파일을 처리하고 있습니다.\n",
      "16-th 파일을 처리하고 있습니다.\n",
      "17-th 파일을 처리하고 있습니다.\n",
      "18-th 파일을 처리하고 있습니다.\n",
      "19-th 파일을 처리하고 있습니다.\n",
      "20-th 파일을 처리하고 있습니다.\n",
      "21-th 파일을 처리하고 있습니다.\n",
      "22-th 파일을 처리하고 있습니다.\n",
      "23-th 파일을 처리하고 있습니다.\n",
      "24-th 파일을 처리하고 있습니다.\n",
      "25-th 파일을 처리하고 있습니다.\n",
      "26-th 파일을 처리하고 있습니다.\n",
      "27-th 파일을 처리하고 있습니다.\n",
      "28-th 파일을 처리하고 있습니다.\n",
      "29-th 파일을 처리하고 있습니다.\n",
      "30-th 파일을 처리하고 있습니다.\n",
      "31-th 파일을 처리하고 있습니다.\n",
      "32-th 파일을 처리하고 있습니다.\n",
      "33-th 파일을 처리하고 있습니다.\n",
      "34-th 파일을 처리하고 있습니다.\n",
      "35-th 파일을 처리하고 있습니다.\n",
      "36-th 파일을 처리하고 있습니다.\n",
      "37-th 파일을 처리하고 있습니다.\n",
      "38-th 파일을 처리하고 있습니다.\n",
      "39-th 파일을 처리하고 있습니다.\n",
      "40-th 파일을 처리하고 있습니다.\n",
      "41-th 파일을 처리하고 있습니다.\n",
      "42-th 파일을 처리하고 있습니다.\n",
      "43-th 파일을 처리하고 있습니다.\n",
      "44-th 파일을 처리하고 있습니다.\n",
      "45-th 파일을 처리하고 있습니다.\n",
      "46-th 파일을 처리하고 있습니다.\n",
      "47-th 파일을 처리하고 있습니다.\n",
      "48-th 파일을 처리하고 있습니다.\n",
      "49-th 파일을 처리하고 있습니다.\n",
      "50-th 파일을 처리하고 있습니다.\n",
      "51-th 파일을 처리하고 있습니다.\n",
      "52-th 파일을 처리하고 있습니다.\n",
      "53-th 파일을 처리하고 있습니다.\n",
      "54-th 파일을 처리하고 있습니다.\n",
      "55-th 파일을 처리하고 있습니다.\n",
      "56-th 파일을 처리하고 있습니다.\n",
      "57-th 파일을 처리하고 있습니다.\n",
      "58-th 파일을 처리하고 있습니다.\n",
      "59-th 파일을 처리하고 있습니다.\n",
      "60-th 파일을 처리하고 있습니다.\n",
      "61-th 파일을 처리하고 있습니다.\n",
      "62-th 파일을 처리하고 있습니다.\n",
      "63-th 파일을 처리하고 있습니다.\n",
      "64-th 파일을 처리하고 있습니다.\n",
      "65-th 파일을 처리하고 있습니다.\n",
      "66-th 파일을 처리하고 있습니다.\n",
      "67-th 파일을 처리하고 있습니다.\n",
      "68-th 파일을 처리하고 있습니다.\n",
      "69-th 파일을 처리하고 있습니다.\n",
      "70-th 파일을 처리하고 있습니다.\n",
      "71-th 파일을 처리하고 있습니다.\n",
      "72-th 파일을 처리하고 있습니다.\n",
      "73-th 파일을 처리하고 있습니다.\n",
      "74-th 파일을 처리하고 있습니다.\n",
      "75-th 파일을 처리하고 있습니다.\n",
      "76-th 파일을 처리하고 있습니다.\n",
      "77-th 파일을 처리하고 있습니다.\n",
      "78-th 파일을 처리하고 있습니다.\n",
      "79-th 파일을 처리하고 있습니다.\n",
      "80-th 파일을 처리하고 있습니다.\n",
      "81-th 파일을 처리하고 있습니다.\n",
      "82-th 파일을 처리하고 있습니다.\n",
      "83-th 파일을 처리하고 있습니다.\n",
      "84-th 파일을 처리하고 있습니다.\n",
      "85-th 파일을 처리하고 있습니다.\n",
      "86-th 파일을 처리하고 있습니다.\n",
      "87-th 파일을 처리하고 있습니다.\n",
      "88-th 파일을 처리하고 있습니다.\n",
      "89-th 파일을 처리하고 있습니다.\n",
      "90-th 파일을 처리하고 있습니다.\n",
      "91-th 파일을 처리하고 있습니다.\n",
      "92-th 파일을 처리하고 있습니다.\n",
      "93-th 파일을 처리하고 있습니다.\n",
      "94-th 파일을 처리하고 있습니다.\n",
      "95-th 파일을 처리하고 있습니다.\n",
      "96-th 파일을 처리하고 있습니다.\n",
      "97-th 파일을 처리하고 있습니다.\n",
      "98-th 파일을 처리하고 있습니다.\n",
      "99-th 파일을 처리하고 있습니다.\n",
      "100-th 파일을 처리하고 있습니다.\n",
      "101-th 파일을 처리하고 있습니다.\n",
      "102-th 파일을 처리하고 있습니다.\n",
      "103-th 파일을 처리하고 있습니다.\n",
      "104-th 파일을 처리하고 있습니다.\n",
      "105-th 파일을 처리하고 있습니다.\n",
      "106-th 파일을 처리하고 있습니다.\n",
      "107-th 파일을 처리하고 있습니다.\n",
      "108-th 파일을 처리하고 있습니다.\n",
      "109-th 파일을 처리하고 있습니다.\n",
      "110-th 파일을 처리하고 있습니다.\n",
      "111-th 파일을 처리하고 있습니다.\n",
      "112-th 파일을 처리하고 있습니다.\n",
      "113-th 파일을 처리하고 있습니다.\n",
      "114-th 파일을 처리하고 있습니다.\n",
      "115-th 파일을 처리하고 있습니다.\n",
      "116-th 파일을 처리하고 있습니다.\n",
      "117-th 파일을 처리하고 있습니다.\n",
      "118-th 파일을 처리하고 있습니다.\n",
      "119-th 파일을 처리하고 있습니다.\n",
      "120-th 파일을 처리하고 있습니다.\n",
      "121-th 파일을 처리하고 있습니다.\n",
      "122-th 파일을 처리하고 있습니다.\n",
      "123-th 파일을 처리하고 있습니다.\n",
      "124-th 파일을 처리하고 있습니다.\n",
      "125-th 파일을 처리하고 있습니다.\n",
      "126-th 파일을 처리하고 있습니다.\n",
      "127-th 파일을 처리하고 있습니다.\n",
      "128-th 파일을 처리하고 있습니다.\n",
      "129-th 파일을 처리하고 있습니다.\n",
      "130-th 파일을 처리하고 있습니다.\n",
      "131-th 파일을 처리하고 있습니다.\n",
      "132-th 파일을 처리하고 있습니다.\n",
      "133-th 파일을 처리하고 있습니다.\n",
      "134-th 파일을 처리하고 있습니다.\n",
      "135-th 파일을 처리하고 있습니다.\n",
      "136-th 파일을 처리하고 있습니다.\n",
      "137-th 파일을 처리하고 있습니다.\n",
      "138-th 파일을 처리하고 있습니다.\n",
      "139-th 파일을 처리하고 있습니다.\n",
      "140-th 파일을 처리하고 있습니다.\n",
      "141-th 파일을 처리하고 있습니다.\n",
      "142-th 파일을 처리하고 있습니다.\n",
      "143-th 파일을 처리하고 있습니다.\n",
      "144-th 파일을 처리하고 있습니다.\n",
      "145-th 파일을 처리하고 있습니다.\n",
      "146-th 파일을 처리하고 있습니다.\n",
      "147-th 파일을 처리하고 있습니다.\n",
      "148-th 파일을 처리하고 있습니다.\n",
      "149-th 파일을 처리하고 있습니다.\n",
      "150-th 파일을 처리하고 있습니다.\n",
      "151-th 파일을 처리하고 있습니다.\n",
      "152-th 파일을 처리하고 있습니다.\n",
      "153-th 파일을 처리하고 있습니다.\n",
      "154-th 파일을 처리하고 있습니다.\n",
      "155-th 파일을 처리하고 있습니다.\n",
      "156-th 파일을 처리하고 있습니다.\n",
      "157-th 파일을 처리하고 있습니다.\n",
      "158-th 파일을 처리하고 있습니다.\n",
      "159-th 파일을 처리하고 있습니다.\n",
      "160-th 파일을 처리하고 있습니다.\n",
      "161-th 파일을 처리하고 있습니다.\n",
      "162-th 파일을 처리하고 있습니다.\n",
      "163-th 파일을 처리하고 있습니다.\n",
      "164-th 파일을 처리하고 있습니다.\n",
      "165-th 파일을 처리하고 있습니다.\n",
      "166-th 파일을 처리하고 있습니다.\n",
      "167-th 파일을 처리하고 있습니다.\n",
      "168-th 파일을 처리하고 있습니다.\n",
      "169-th 파일을 처리하고 있습니다.\n",
      "170-th 파일을 처리하고 있습니다.\n",
      "171-th 파일을 처리하고 있습니다.\n",
      "172-th 파일을 처리하고 있습니다.\n",
      "173-th 파일을 처리하고 있습니다.\n",
      "174-th 파일을 처리하고 있습니다.\n",
      "175-th 파일을 처리하고 있습니다.\n",
      "176-th 파일을 처리하고 있습니다.\n",
      "177-th 파일을 처리하고 있습니다.\n",
      "178-th 파일을 처리하고 있습니다.\n",
      "179-th 파일을 처리하고 있습니다.\n",
      "180-th 파일을 처리하고 있습니다.\n",
      "181-th 파일을 처리하고 있습니다.\n",
      "182-th 파일을 처리하고 있습니다.\n",
      "183-th 파일을 처리하고 있습니다.\n",
      "184-th 파일을 처리하고 있습니다.\n",
      "185-th 파일을 처리하고 있습니다.\n",
      "186-th 파일을 처리하고 있습니다.\n",
      "187-th 파일을 처리하고 있습니다.\n",
      "188-th 파일을 처리하고 있습니다.\n",
      "189-th 파일을 처리하고 있습니다.\n",
      "190-th 파일을 처리하고 있습니다.\n",
      "191-th 파일을 처리하고 있습니다.\n",
      "192-th 파일을 처리하고 있습니다.\n",
      "193-th 파일을 처리하고 있습니다.\n",
      "194-th 파일을 처리하고 있습니다.\n",
      "195-th 파일을 처리하고 있습니다.\n",
      "196-th 파일을 처리하고 있습니다.\n",
      "197-th 파일을 처리하고 있습니다.\n",
      "198-th 파일을 처리하고 있습니다.\n",
      "199-th 파일을 처리하고 있습니다.\n",
      "200-th 파일을 처리하고 있습니다.\n",
      "201-th 파일을 처리하고 있습니다.\n",
      "202-th 파일을 처리하고 있습니다.\n",
      "203-th 파일을 처리하고 있습니다.\n",
      "204-th 파일을 처리하고 있습니다.\n",
      "205-th 파일을 처리하고 있습니다.\n",
      "206-th 파일을 처리하고 있습니다.\n",
      "207-th 파일을 처리하고 있습니다.\n",
      "208-th 파일을 처리하고 있습니다.\n",
      "209-th 파일을 처리하고 있습니다.\n",
      "210-th 파일을 처리하고 있습니다.\n",
      "211-th 파일을 처리하고 있습니다.\n",
      "212-th 파일을 처리하고 있습니다.\n",
      "213-th 파일을 처리하고 있습니다.\n",
      "214-th 파일을 처리하고 있습니다.\n",
      "215-th 파일을 처리하고 있습니다.\n",
      "216-th 파일을 처리하고 있습니다.\n",
      "217-th 파일을 처리하고 있습니다.\n",
      "218-th 파일을 처리하고 있습니다.\n",
      "219-th 파일을 처리하고 있습니다.\n",
      "220-th 파일을 처리하고 있습니다.\n",
      "221-th 파일을 처리하고 있습니다.\n",
      "222-th 파일을 처리하고 있습니다.\n",
      "223-th 파일을 처리하고 있습니다.\n",
      "224-th 파일을 처리하고 있습니다.\n",
      "225-th 파일을 처리하고 있습니다.\n",
      "226-th 파일을 처리하고 있습니다.\n",
      "227-th 파일을 처리하고 있습니다.\n",
      "228-th 파일을 처리하고 있습니다.\n",
      "229-th 파일을 처리하고 있습니다.\n",
      "230-th 파일을 처리하고 있습니다.\n",
      "231-th 파일을 처리하고 있습니다.\n",
      "232-th 파일을 처리하고 있습니다.\n",
      "233-th 파일을 처리하고 있습니다.\n",
      "234-th 파일을 처리하고 있습니다.\n",
      "235-th 파일을 처리하고 있습니다.\n",
      "236-th 파일을 처리하고 있습니다.\n",
      "237-th 파일을 처리하고 있습니다.\n",
      "238-th 파일을 처리하고 있습니다.\n",
      "239-th 파일을 처리하고 있습니다.\n",
      "240-th 파일을 처리하고 있습니다.\n",
      "241-th 파일을 처리하고 있습니다.\n",
      "242-th 파일을 처리하고 있습니다.\n",
      "243-th 파일을 처리하고 있습니다.\n",
      "244-th 파일을 처리하고 있습니다.\n",
      "245-th 파일을 처리하고 있습니다.\n",
      "246-th 파일을 처리하고 있습니다.\n",
      "247-th 파일을 처리하고 있습니다.\n",
      "248-th 파일을 처리하고 있습니다.\n",
      "249-th 파일을 처리하고 있습니다.\n",
      "250-th 파일을 처리하고 있습니다.\n",
      "251-th 파일을 처리하고 있습니다.\n",
      "252-th 파일을 처리하고 있습니다.\n",
      "253-th 파일을 처리하고 있습니다.\n",
      "254-th 파일을 처리하고 있습니다.\n",
      "255-th 파일을 처리하고 있습니다.\n",
      "256-th 파일을 처리하고 있습니다.\n",
      "257-th 파일을 처리하고 있습니다.\n"
     ]
    }
   ],
   "source": [
    "sr = 22050\n",
    "frame_size = 1\n",
    "stride = 0.2\n",
    "n_mels = 64\n",
    "n_feature = 34\n",
    "short_time = 512\n",
    " \n",
    "file_list = pd.read_excel('./file_list.xlsx', sheet_name='list')  # (1)\n",
    " \n",
    "frame_vectors = []\n",
    "label_vectors = []\n",
    "idx_count = []\n",
    " \n",
    "for file_i, file_name in enumerate(file_list['audio_name']):  # (2)\n",
    "    if file_i % 10 == 0:\n",
    "        print(f'{file_i}-th 파일을 처리하고 있습니다.')\n",
    " \n",
    "    label_data_temp = load_label_data('./file_list.xlsx', file_i, frame_size)  # (3)\n",
    " \n",
    "    if len(label_data_temp) == 0:  # (4)\n",
    "        idx_count.append(0)\n",
    "        continue\n",
    " \n",
    "    audio_path = './data/raw_data/' + file_name\n",
    "    audio_data_temp, _ = load_sound_data(audio_path, sr)  # (5)\n",
    " \n",
    "    frame_vector, label_vector = process_frame(\n",
    "        audio=audio_data_temp, sr=sr, label=label_data_temp,\n",
    "        frame_size=frame_size, stride=stride\n",
    "    )  # (6)\n",
    "    frame_vectors.append(frame_vector)\n",
    "    label_vectors.append(label_vector)\n",
    "    \n",
    "    idx_count.append(frame_vector.shape[0])"
   ]
  },
  {
   "cell_type": "code",
   "execution_count": 66,
   "metadata": {},
   "outputs": [],
   "source": [
    "frame_vectors = np.concatenate(frame_vectors)\n",
    "label_vectors = np.concatenate(label_vectors)"
   ]
  },
  {
   "cell_type": "code",
   "execution_count": 68,
   "metadata": {
    "colab": {
     "base_uri": "https://localhost:8080/"
    },
    "executionInfo": {
     "elapsed": 959,
     "status": "ok",
     "timestamp": 1614596694933,
     "user": {
      "displayName": "Hooncheol Shin",
      "photoUrl": "https://lh3.googleusercontent.com/a-/AOh14GgOP8xftDNxLBTGt9RYgJKhihLZm89rKAIFTVIf=s64",
      "userId": "09924783447560152895"
     },
     "user_tz": -540
    },
    "id": "2Jqf5sTyJ9na",
    "outputId": "1369942a-78d3-4c26-ad6e-09c30ce71ed8"
   },
   "outputs": [
    {
     "name": "stdout",
     "output_type": "stream",
     "text": [
      "label vectors 의 shape: (6090, 1)    \n",
      "비명 갯수 : 2237    \n",
      "비명 아닌 갯수 : 3853\n"
     ]
    }
   ],
   "source": [
    "print(\n",
    "    f'label vectors 의 shape: {label_vectors.shape}\\\n",
    "    \\n비명 갯수 : {int(sum(label_vectors == 1))}\\\n",
    "    \\n비명 아닌 갯수 : {int(sum(label_vectors == 0))}'\n",
    ")"
   ]
  },
  {
   "cell_type": "code",
   "execution_count": 67,
   "metadata": {
    "colab": {
     "base_uri": "https://localhost:8080/"
    },
    "executionInfo": {
     "elapsed": 795767,
     "status": "ok",
     "timestamp": 1614596693810,
     "user": {
      "displayName": "Hooncheol Shin",
      "photoUrl": "https://lh3.googleusercontent.com/a-/AOh14GgOP8xftDNxLBTGt9RYgJKhihLZm89rKAIFTVIf=s64",
      "userId": "09924783447560152895"
     },
     "user_tz": -540
    },
    "id": "wGt-X5imJ9nZ",
    "outputId": "38193af5-e0e0-451f-e47a-19de771dcae9"
   },
   "outputs": [
    {
     "name": "stdout",
     "output_type": "stream",
     "text": [
      "mel spectrogram shape: (6090, 64, 44)\n"
     ]
    }
   ],
   "source": [
    "mel_features = []\n",
    "for frame_vector in frame_vectors:\n",
    "    mel_feature = extract_mel_feature(\n",
    "        frame_vector=frame_vector, sr=sr, n_mels=n_mels\n",
    "    )\n",
    "    mel_features.append(mel_feature)\n",
    "mel_features = np.stack(mel_features)\n",
    "print(f'mel spectrogram shape: {mel_features.shape}')"
   ]
  },
  {
   "cell_type": "code",
   "execution_count": 69,
   "metadata": {
    "colab": {
     "base_uri": "https://localhost:8080/"
    },
    "executionInfo": {
     "elapsed": 888,
     "status": "ok",
     "timestamp": 1614596694934,
     "user": {
      "displayName": "Hooncheol Shin",
      "photoUrl": "https://lh3.googleusercontent.com/a-/AOh14GgOP8xftDNxLBTGt9RYgJKhihLZm89rKAIFTVIf=s64",
      "userId": "09924783447560152895"
     },
     "user_tz": -540
    },
    "id": "C7eKj9FpJ9na",
    "outputId": "1434b525-921b-442b-bbef-952ef4eb0038"
   },
   "outputs": [],
   "source": [
    "train_ratio = 0.7  # (1)\n",
    "\n",
    "total_n = frame_vectors.shape[0]  # (2)\n",
    "train_n = int(total_n * train_ratio)  # (3)\n",
    "\n",
    "train_idxes = np.random.choice(total_n, train_n, replace=False)  # (4)\n",
    "\n",
    "train_mask = np.zeros(shape=total_n, dtype=bool)  # (5)\n",
    "train_mask[train_idxes] = True  # (6)"
   ]
  },
  {
   "cell_type": "code",
   "execution_count": 147,
   "metadata": {},
   "outputs": [
    {
     "name": "stdout",
     "output_type": "stream",
     "text": [
      "[False  True  True  True False  True  True  True  True  True]\n"
     ]
    }
   ],
   "source": [
    "print(train_mask[:10])"
   ]
  },
  {
   "cell_type": "code",
   "execution_count": 70,
   "metadata": {
    "colab": {
     "base_uri": "https://localhost:8080/"
    },
    "executionInfo": {
     "elapsed": 839,
     "status": "ok",
     "timestamp": 1614596694936,
     "user": {
      "displayName": "Hooncheol Shin",
      "photoUrl": "https://lh3.googleusercontent.com/a-/AOh14GgOP8xftDNxLBTGt9RYgJKhihLZm89rKAIFTVIf=s64",
      "userId": "09924783447560152895"
     },
     "user_tz": -540
    },
    "id": "L70GOSSrb1Gu",
    "outputId": "ab013d1d-0a45-43a6-ab51-e8367296843b"
   },
   "outputs": [
    {
     "data": {
      "text/plain": [
       "array([4513,  900, 2086, 5677,  654, 4348,  778, 6044, 4048, 3275])"
      ]
     },
     "execution_count": 70,
     "metadata": {},
     "output_type": "execute_result"
    }
   ],
   "source": [
    "\n",
    "train_idxes[:10]"
   ]
  },
  {
   "cell_type": "code",
   "execution_count": 202,
   "metadata": {
    "executionInfo": {
     "elapsed": 615,
     "status": "ok",
     "timestamp": 1614543905083,
     "user": {
      "displayName": "Hooncheol Shin",
      "photoUrl": "https://lh3.googleusercontent.com/a-/AOh14GgOP8xftDNxLBTGt9RYgJKhihLZm89rKAIFTVIf=s64",
      "userId": "09924783447560152895"
     },
     "user_tz": -540
    },
    "id": "Vt-hG-wR9wrn"
   },
   "outputs": [],
   "source": [
    "# idxes = []\n",
    "# now = 0\n",
    "# for i, count in enumerate(idx_count):\n",
    "#     idxes.append([j for j in range(now, now + count)])\n",
    "#     now += count"
   ]
  },
  {
   "cell_type": "code",
   "execution_count": 219,
   "metadata": {
    "executionInfo": {
     "elapsed": 1141,
     "status": "ok",
     "timestamp": 1614543961447,
     "user": {
      "displayName": "Hooncheol Shin",
      "photoUrl": "https://lh3.googleusercontent.com/a-/AOh14GgOP8xftDNxLBTGt9RYgJKhihLZm89rKAIFTVIf=s64",
      "userId": "09924783447560152895"
     },
     "user_tz": -540
    },
    "id": "e2nTKqg7-Xun"
   },
   "outputs": [],
   "source": [
    "# import random\n",
    "# random.shuffle(idxes)\n",
    "# # idxes[:5]"
   ]
  },
  {
   "cell_type": "code",
   "execution_count": 220,
   "metadata": {
    "executionInfo": {
     "elapsed": 564,
     "status": "ok",
     "timestamp": 1614543968785,
     "user": {
      "displayName": "Hooncheol Shin",
      "photoUrl": "https://lh3.googleusercontent.com/a-/AOh14GgOP8xftDNxLBTGt9RYgJKhihLZm89rKAIFTVIf=s64",
      "userId": "09924783447560152895"
     },
     "user_tz": -540
    },
    "id": "uBqMr_C7AYaR"
   },
   "outputs": [],
   "source": [
    "# train_idxes = []\n",
    "# for idx in idxes:\n",
    "#     train_idxes.extend(idx)\n",
    "#     if len(train_idxes) > train_idx:\n",
    "#         break "
   ]
  },
  {
   "cell_type": "code",
   "execution_count": 249,
   "metadata": {
    "colab": {
     "base_uri": "https://localhost:8080/"
    },
    "executionInfo": {
     "elapsed": 597,
     "status": "ok",
     "timestamp": 1614545894190,
     "user": {
      "displayName": "Hooncheol Shin",
      "photoUrl": "https://lh3.googleusercontent.com/a-/AOh14GgOP8xftDNxLBTGt9RYgJKhihLZm89rKAIFTVIf=s64",
      "userId": "09924783447560152895"
     },
     "user_tz": -540
    },
    "id": "wnZegdoiA45m",
    "outputId": "fa0e49cb-676b-4440-846e-7c6a81668368"
   },
   "outputs": [
    {
     "data": {
      "text/plain": [
       "3842"
      ]
     },
     "execution_count": 249,
     "metadata": {
      "tags": []
     },
     "output_type": "execute_result"
    }
   ],
   "source": [
    "# len(train_idxes)"
   ]
  },
  {
   "cell_type": "code",
   "execution_count": 71,
   "metadata": {
    "executionInfo": {
     "elapsed": 819,
     "status": "ok",
     "timestamp": 1614596694937,
     "user": {
      "displayName": "Hooncheol Shin",
      "photoUrl": "https://lh3.googleusercontent.com/a-/AOh14GgOP8xftDNxLBTGt9RYgJKhihLZm89rKAIFTVIf=s64",
      "userId": "09924783447560152895"
     },
     "user_tz": -540
    },
    "id": "5QQd-TeCDUqa"
   },
   "outputs": [],
   "source": []
  },
  {
   "cell_type": "code",
   "execution_count": 72,
   "metadata": {
    "executionInfo": {
     "elapsed": 798,
     "status": "ok",
     "timestamp": 1614596694938,
     "user": {
      "displayName": "Hooncheol Shin",
      "photoUrl": "https://lh3.googleusercontent.com/a-/AOh14GgOP8xftDNxLBTGt9RYgJKhihLZm89rKAIFTVIf=s64",
      "userId": "09924783447560152895"
     },
     "user_tz": -540
    },
    "id": "BXoI4GGoBSbi"
   },
   "outputs": [],
   "source": [
    "train_mel_features = mel_features[train_mask]\n",
    "valid_mel_features = mel_features[~train_mask]\n",
    "\n",
    "train_label_vectors = label_vectors[train_mask]\n",
    "valid_label_vectors = label_vectors[~train_mask]"
   ]
  },
  {
   "cell_type": "code",
   "execution_count": 73,
   "metadata": {
    "colab": {
     "base_uri": "https://localhost:8080/"
    },
    "executionInfo": {
     "elapsed": 1174,
     "status": "ok",
     "timestamp": 1614596696205,
     "user": {
      "displayName": "Hooncheol Shin",
      "photoUrl": "https://lh3.googleusercontent.com/a-/AOh14GgOP8xftDNxLBTGt9RYgJKhihLZm89rKAIFTVIf=s64",
      "userId": "09924783447560152895"
     },
     "user_tz": -540
    },
    "id": "uCp0E67bJ9nb",
    "outputId": "ac684c33-8e7e-49cb-a762-837453261e72"
   },
   "outputs": [
    {
     "name": "stdout",
     "output_type": "stream",
     "text": [
      "[2703]\n",
      "[1560]\n"
     ]
    }
   ],
   "source": [
    "print(sum(train_label_vectors==0))\n",
    "print(sum(train_label_vectors==1))"
   ]
  },
  {
   "cell_type": "code",
   "execution_count": 74,
   "metadata": {
    "colab": {
     "base_uri": "https://localhost:8080/"
    },
    "executionInfo": {
     "elapsed": 1130,
     "status": "ok",
     "timestamp": 1614596696206,
     "user": {
      "displayName": "Hooncheol Shin",
      "photoUrl": "https://lh3.googleusercontent.com/a-/AOh14GgOP8xftDNxLBTGt9RYgJKhihLZm89rKAIFTVIf=s64",
      "userId": "09924783447560152895"
     },
     "user_tz": -540
    },
    "id": "VnvB_EynJ9nb",
    "outputId": "f129e69c-77cb-4a76-e1a2-491463995ae0"
   },
   "outputs": [
    {
     "name": "stdout",
     "output_type": "stream",
     "text": [
      "[1150]\n",
      "[677]\n"
     ]
    }
   ],
   "source": [
    "print(sum(valid_label_vectors==0))\n",
    "print(sum(valid_label_vectors==1))"
   ]
  },
  {
   "cell_type": "markdown",
   "metadata": {
    "id": "nnZrzbKzJ9nc"
   },
   "source": [
    "## PyTorch 데이터셋 & 로더 구현"
   ]
  },
  {
   "cell_type": "code",
   "execution_count": 75,
   "metadata": {
    "executionInfo": {
     "elapsed": 1063,
     "status": "ok",
     "timestamp": 1614596696207,
     "user": {
      "displayName": "Hooncheol Shin",
      "photoUrl": "https://lh3.googleusercontent.com/a-/AOh14GgOP8xftDNxLBTGt9RYgJKhihLZm89rKAIFTVIf=s64",
      "userId": "09924783447560152895"
     },
     "user_tz": -540
    },
    "id": "ENA54USfJ9nc"
   },
   "outputs": [],
   "source": [
    "class ScreamDataset(Dataset):\n",
    "    def __init__(self, x, y):\n",
    "        self.audio_features = x\n",
    "        self.labels = y\n",
    "    \n",
    "    def __len__(self):\n",
    "        return len(self.audio_features)\n",
    "    \n",
    "    def __getitem__(self, idx):\n",
    "        audio_feature = torch.FloatTensor(self.audio_features[idx])\n",
    "        audio_feature = audio_feature.unsqueeze(0)\n",
    "        label = self.labels[idx]\n",
    "        return (audio_feature, label)"
   ]
  },
  {
   "cell_type": "code",
   "execution_count": 76,
   "metadata": {
    "executionInfo": {
     "elapsed": 1045,
     "status": "ok",
     "timestamp": 1614596696207,
     "user": {
      "displayName": "Hooncheol Shin",
      "photoUrl": "https://lh3.googleusercontent.com/a-/AOh14GgOP8xftDNxLBTGt9RYgJKhihLZm89rKAIFTVIf=s64",
      "userId": "09924783447560152895"
     },
     "user_tz": -540
    },
    "id": "4YBgENGX2tt4"
   },
   "outputs": [],
   "source": [
    "batch_size = 128\n",
    "learning_rate = 0.001\n",
    "epochs = 10"
   ]
  },
  {
   "cell_type": "code",
   "execution_count": 77,
   "metadata": {
    "executionInfo": {
     "elapsed": 1025,
     "status": "ok",
     "timestamp": 1614596696209,
     "user": {
      "displayName": "Hooncheol Shin",
      "photoUrl": "https://lh3.googleusercontent.com/a-/AOh14GgOP8xftDNxLBTGt9RYgJKhihLZm89rKAIFTVIf=s64",
      "userId": "09924783447560152895"
     },
     "user_tz": -540
    },
    "id": "AbUMJoWvJ9nc"
   },
   "outputs": [],
   "source": [
    "train_dataset = ScreamDataset(\n",
    "    train_mel_features, train_label_vectors\n",
    ")  # (1)\n",
    "train_loader = DataLoader(\n",
    "    train_dataset, batch_size=batch_size, shuffle=True\n",
    ")  # (2)"
   ]
  },
  {
   "cell_type": "code",
   "execution_count": 78,
   "metadata": {
    "executionInfo": {
     "elapsed": 1009,
     "status": "ok",
     "timestamp": 1614596696209,
     "user": {
      "displayName": "Hooncheol Shin",
      "photoUrl": "https://lh3.googleusercontent.com/a-/AOh14GgOP8xftDNxLBTGt9RYgJKhihLZm89rKAIFTVIf=s64",
      "userId": "09924783447560152895"
     },
     "user_tz": -540
    },
    "id": "uKm5fnDtJ9nd"
   },
   "outputs": [],
   "source": [
    "valid_dataset = ScreamDataset(valid_mel_features, valid_label_vectors)# (1)   # 이게 기준임 ㅎㅎ\n",
    "valid_loader = DataLoader(\n",
    "    valid_dataset, batch_size=batch_size, shuffle=False\n",
    ")  # (2)"
   ]
  },
  {
   "cell_type": "markdown",
   "metadata": {
    "id": "FjF8wn3ZJ9nd"
   },
   "source": [
    "## 모델 클래스 구현"
   ]
  },
  {
   "cell_type": "code",
   "execution_count": 79,
   "metadata": {
    "executionInfo": {
     "elapsed": 962,
     "status": "ok",
     "timestamp": 1614596696210,
     "user": {
      "displayName": "Hooncheol Shin",
      "photoUrl": "https://lh3.googleusercontent.com/a-/AOh14GgOP8xftDNxLBTGt9RYgJKhihLZm89rKAIFTVIf=s64",
      "userId": "09924783447560152895"
     },
     "user_tz": -540
    },
    "id": "67uiJzf0J9nd"
   },
   "outputs": [],
   "source": [
    "from torch import nn"
   ]
  },
  {
   "cell_type": "code",
   "execution_count": 265,
   "metadata": {
    "executionInfo": {
     "elapsed": 1156,
     "status": "ok",
     "timestamp": 1614546408733,
     "user": {
      "displayName": "Hooncheol Shin",
      "photoUrl": "https://lh3.googleusercontent.com/a-/AOh14GgOP8xftDNxLBTGt9RYgJKhihLZm89rKAIFTVIf=s64",
      "userId": "09924783447560152895"
     },
     "user_tz": -540
    },
    "id": "RrV9_VrqJ9nd"
   },
   "outputs": [],
   "source": [
    "# model = nn.Sequential(\n",
    "#     nn.Conv2d(1,128,(64,1),1,0),\n",
    "#     # nn.BatchNorm2d(128),\n",
    "#     nn.ReLU(),\n",
    "#     nn.Dropout2d(p=0.5),\n",
    "#     nn.Conv2d(128,128,(2,2),1,1),\n",
    "#     # nn.BatchNorm2d(128),\n",
    "#     nn.ReLU(),\n",
    "#     nn.Dropout2d(p=0.5),\n",
    "#     nn.Flatten(),\n",
    "#     nn.Linear(128*2*45, 1),\n",
    "# )"
   ]
  },
  {
   "cell_type": "code",
   "execution_count": 141,
   "metadata": {
    "executionInfo": {
     "elapsed": 946,
     "status": "ok",
     "timestamp": 1614596696211,
     "user": {
      "displayName": "Hooncheol Shin",
      "photoUrl": "https://lh3.googleusercontent.com/a-/AOh14GgOP8xftDNxLBTGt9RYgJKhihLZm89rKAIFTVIf=s64",
      "userId": "09924783447560152895"
     },
     "user_tz": -540
    },
    "id": "M3LR2foqn7y9"
   },
   "outputs": [],
   "source": [
    "device = 'cuda' if torch.cuda.is_available() else 'cpu'\n",
    "\n",
    "model = nn.Sequential(\n",
    "    nn.Conv2d(1,32,(1,44),1,0),\n",
    "    nn.BatchNorm2d(32),\n",
    "    nn.ReLU(),\n",
    "    nn.Dropout2d(p=0.3),\n",
    "    nn.Conv2d(32,64,(2,2),1,1),\n",
    "    nn.BatchNorm2d(64),\n",
    "    nn.ReLU(),\n",
    "    nn.Dropout2d(p=0.3),\n",
    "    nn.Flatten(),\n",
    "    nn.Linear(8320, 1),\n",
    ").to(device)"
   ]
  },
  {
   "cell_type": "code",
   "execution_count": 97,
   "metadata": {
    "executionInfo": {
     "elapsed": 599,
     "status": "ok",
     "timestamp": 1614533155022,
     "user": {
      "displayName": "Hooncheol Shin",
      "photoUrl": "https://lh3.googleusercontent.com/a-/AOh14GgOP8xftDNxLBTGt9RYgJKhihLZm89rKAIFTVIf=s64",
      "userId": "09924783447560152895"
     },
     "user_tz": -540
    },
    "id": "Je-1PvNVqgFV"
   },
   "outputs": [],
   "source": [
    "# model = nn.Sequential(\n",
    "#     nn.Conv2d(1,16,(3,3),1,0),\n",
    "#     nn.BatchNorm2d(16),\n",
    "#     nn.ReLU(),\n",
    "#     nn.Dropout2d(p=0.3),\n",
    "#     nn.Conv2d(16,32,(2,2),1,1),\n",
    "#     nn.BatchNorm2d(32),\n",
    "#     nn.ReLU(),\n",
    "#     nn.Dropout2d(p=0.3),\n",
    "#     nn.Flatten(),\n",
    "#     nn.Linear(86688, 1),\n",
    "# )"
   ]
  },
  {
   "cell_type": "code",
   "execution_count": 151,
   "metadata": {
    "executionInfo": {
     "elapsed": 1135,
     "status": "ok",
     "timestamp": 1614542360216,
     "user": {
      "displayName": "Hooncheol Shin",
      "photoUrl": "https://lh3.googleusercontent.com/a-/AOh14GgOP8xftDNxLBTGt9RYgJKhihLZm89rKAIFTVIf=s64",
      "userId": "09924783447560152895"
     },
     "user_tz": -540
    },
    "id": "6FGFq-eANuj6"
   },
   "outputs": [],
   "source": [
    "# model = nn.Sequential(\n",
    "#     nn.Conv2d(1,16,(1,44),1,0),\n",
    "#     nn.BatchNorm2d(16),\n",
    "#     nn.ReLU(),\n",
    "#     nn.Dropout2d(p=0.3),\n",
    "#     nn.Conv2d(16,16,(2,2),1,1),\n",
    "#     nn.BatchNorm2d(16),\n",
    "#     nn.ReLU(),\n",
    "#     nn.Dropout2d(p=0.3),\n",
    "#     nn.Flatten(),\n",
    "#     nn.Linear(2080, 1),\n",
    "# )"
   ]
  },
  {
   "cell_type": "markdown",
   "metadata": {
    "id": "0ilVNO7JJ9nd"
   },
   "source": [
    "## 모델 학습"
   ]
  },
  {
   "cell_type": "code",
   "execution_count": 142,
   "metadata": {
    "executionInfo": {
     "elapsed": 931,
     "status": "ok",
     "timestamp": 1614596696211,
     "user": {
      "displayName": "Hooncheol Shin",
      "photoUrl": "https://lh3.googleusercontent.com/a-/AOh14GgOP8xftDNxLBTGt9RYgJKhihLZm89rKAIFTVIf=s64",
      "userId": "09924783447560152895"
     },
     "user_tz": -540
    },
    "id": "WBbrXukkJ9nd"
   },
   "outputs": [],
   "source": [
    "import torch\n",
    "from torch import optim\n",
    "from sklearn.metrics import f1_score, accuracy_score"
   ]
  },
  {
   "cell_type": "code",
   "execution_count": 144,
   "metadata": {
    "executionInfo": {
     "elapsed": 900,
     "status": "ok",
     "timestamp": 1614596696212,
     "user": {
      "displayName": "Hooncheol Shin",
      "photoUrl": "https://lh3.googleusercontent.com/a-/AOh14GgOP8xftDNxLBTGt9RYgJKhihLZm89rKAIFTVIf=s64",
      "userId": "09924783447560152895"
     },
     "user_tz": -540
    },
    "id": "V4AsWTu4J9ne"
   },
   "outputs": [],
   "source": [
    "criterion = nn.BCEWithLogitsLoss()  # (1)\n",
    "optimizer = optim.Adam(model.parameters(), lr=learning_rate)  # (2)"
   ]
  },
  {
   "cell_type": "code",
   "execution_count": 146,
   "metadata": {
    "colab": {
     "base_uri": "https://localhost:8080/"
    },
    "executionInfo": {
     "elapsed": 167157,
     "status": "ok",
     "timestamp": 1614596862534,
     "user": {
      "displayName": "Hooncheol Shin",
      "photoUrl": "https://lh3.googleusercontent.com/a-/AOh14GgOP8xftDNxLBTGt9RYgJKhihLZm89rKAIFTVIf=s64",
      "userId": "09924783447560152895"
     },
     "user_tz": -540
    },
    "id": "EJ5AM5LgJ9ne",
    "outputId": "e21a1685-e738-4be3-ccb9-31ede8a7010c"
   },
   "outputs": [
    {
     "name": "stdout",
     "output_type": "stream",
     "text": [
      "Epoch  01\n",
      "      |   loss  |   acc  |   f1   |\n",
      "TRAIN |  0.4620 |  0.785 |  0.679 |\n",
      "VALID |  0.3370 |  0.846 |  0.758 |\n",
      "----------------------------------\n",
      "\n",
      "Epoch  02\n",
      "      |   loss  |   acc  |   f1   |\n",
      "TRAIN |  0.3413 |  0.854 |  0.795 |\n",
      "VALID |  0.3071 |  0.874 |  0.788 |\n",
      "----------------------------------\n",
      "\n",
      "Epoch  03\n",
      "      |   loss  |   acc  |   f1   |\n",
      "TRAIN |  0.3173 |  0.868 |  0.813 |\n",
      "VALID |  0.2804 |  0.882 |  0.806 |\n",
      "----------------------------------\n",
      "\n",
      "Epoch  04\n",
      "      |   loss  |   acc  |   f1   |\n",
      "TRAIN |  0.2941 |  0.881 |  0.833 |\n",
      "VALID |  0.2872 |  0.876 |  0.800 |\n",
      "----------------------------------\n",
      "\n",
      "Epoch  05\n",
      "      |   loss  |   acc  |   f1   |\n",
      "TRAIN |  0.2807 |  0.890 |  0.844 |\n",
      "VALID |  0.2607 |  0.892 |  0.821 |\n",
      "----------------------------------\n",
      "\n",
      "Epoch  06\n",
      "      |   loss  |   acc  |   f1   |\n",
      "TRAIN |  0.2674 |  0.891 |  0.846 |\n",
      "VALID |  0.2982 |  0.858 |  0.785 |\n",
      "----------------------------------\n",
      "\n",
      "Epoch  07\n",
      "      |   loss  |   acc  |   f1   |\n",
      "TRAIN |  0.2636 |  0.891 |  0.848 |\n",
      "VALID |  0.2310 |  0.907 |  0.844 |\n",
      "----------------------------------\n",
      "\n",
      "Epoch  08\n",
      "      |   loss  |   acc  |   f1   |\n",
      "TRAIN |  0.2461 |  0.895 |  0.852 |\n",
      "VALID |  0.2812 |  0.863 |  0.785 |\n",
      "----------------------------------\n",
      "\n",
      "Epoch  09\n",
      "      |   loss  |   acc  |   f1   |\n",
      "TRAIN |  0.2438 |  0.901 |  0.860 |\n",
      "VALID |  0.2318 |  0.904 |  0.837 |\n",
      "----------------------------------\n",
      "\n",
      "Epoch  10\n",
      "      |   loss  |   acc  |   f1   |\n",
      "TRAIN |  0.2261 |  0.910 |  0.874 |\n",
      "VALID |  0.2211 |  0.904 |  0.832 |\n",
      "----------------------------------\n",
      "\n",
      "Epoch  11\n",
      "      |   loss  |   acc  |   f1   |\n",
      "TRAIN |  0.2095 |  0.914 |  0.882 |\n",
      "VALID |  0.2104 |  0.915 |  0.853 |\n",
      "----------------------------------\n",
      "\n",
      "Epoch  12\n",
      "      |   loss  |   acc  |   f1   |\n",
      "TRAIN |  0.1994 |  0.920 |  0.889 |\n",
      "VALID |  0.2036 |  0.916 |  0.862 |\n",
      "----------------------------------\n",
      "\n",
      "Epoch  13\n",
      "      |   loss  |   acc  |   f1   |\n",
      "TRAIN |  0.1983 |  0.918 |  0.886 |\n",
      "VALID |  0.2201 |  0.912 |  0.836 |\n",
      "----------------------------------\n",
      "\n",
      "Epoch  14\n",
      "      |   loss  |   acc  |   f1   |\n",
      "TRAIN |  0.1876 |  0.924 |  0.894 |\n",
      "VALID |  0.1999 |  0.914 |  0.854 |\n",
      "----------------------------------\n",
      "\n",
      "Epoch  15\n",
      "      |   loss  |   acc  |   f1   |\n",
      "TRAIN |  0.1778 |  0.928 |  0.901 |\n",
      "VALID |  0.2228 |  0.912 |  0.856 |\n",
      "----------------------------------\n",
      "\n",
      "Epoch  16\n",
      "      |   loss  |   acc  |   f1   |\n",
      "TRAIN |  0.1836 |  0.928 |  0.898 |\n",
      "VALID |  0.1971 |  0.920 |  0.856 |\n",
      "----------------------------------\n",
      "\n",
      "Epoch  17\n",
      "      |   loss  |   acc  |   f1   |\n",
      "TRAIN |  0.1777 |  0.925 |  0.896 |\n",
      "VALID |  0.2158 |  0.917 |  0.850 |\n",
      "----------------------------------\n",
      "\n",
      "Epoch  18\n",
      "      |   loss  |   acc  |   f1   |\n",
      "TRAIN |  0.1697 |  0.932 |  0.905 |\n",
      "VALID |  0.2004 |  0.919 |  0.859 |\n",
      "----------------------------------\n",
      "\n",
      "Epoch  19\n",
      "      |   loss  |   acc  |   f1   |\n",
      "TRAIN |  0.1723 |  0.931 |  0.905 |\n",
      "VALID |  0.1860 |  0.923 |  0.858 |\n",
      "----------------------------------\n",
      "\n",
      "Epoch  20\n",
      "      |   loss  |   acc  |   f1   |\n",
      "TRAIN |  0.1656 |  0.932 |  0.906 |\n",
      "VALID |  0.2040 |  0.908 |  0.829 |\n",
      "----------------------------------\n",
      "\n",
      "Epoch  21\n",
      "      |   loss  |   acc  |   f1   |\n",
      "TRAIN |  0.1600 |  0.936 |  0.912 |\n",
      "VALID |  0.2144 |  0.907 |  0.830 |\n",
      "----------------------------------\n",
      "\n",
      "Epoch  22\n",
      "      |   loss  |   acc  |   f1   |\n",
      "TRAIN |  0.1485 |  0.937 |  0.914 |\n",
      "VALID |  0.1864 |  0.927 |  0.876 |\n",
      "----------------------------------\n",
      "\n",
      "Epoch  23\n",
      "      |   loss  |   acc  |   f1   |\n",
      "TRAIN |  0.1484 |  0.939 |  0.915 |\n",
      "VALID |  0.2090 |  0.920 |  0.863 |\n",
      "----------------------------------\n",
      "\n",
      "Epoch  24\n",
      "      |   loss  |   acc  |   f1   |\n",
      "TRAIN |  0.1418 |  0.943 |  0.922 |\n",
      "VALID |  0.1782 |  0.931 |  0.871 |\n",
      "----------------------------------\n",
      "\n",
      "Epoch  25\n",
      "      |   loss  |   acc  |   f1   |\n",
      "TRAIN |  0.1325 |  0.946 |  0.926 |\n",
      "VALID |  0.1910 |  0.923 |  0.855 |\n",
      "----------------------------------\n",
      "\n",
      "Epoch  26\n",
      "      |   loss  |   acc  |   f1   |\n",
      "TRAIN |  0.1430 |  0.942 |  0.918 |\n",
      "VALID |  0.2221 |  0.904 |  0.837 |\n",
      "----------------------------------\n",
      "\n",
      "Epoch  27\n",
      "      |   loss  |   acc  |   f1   |\n",
      "TRAIN |  0.1371 |  0.948 |  0.928 |\n",
      "VALID |  0.1971 |  0.922 |  0.863 |\n",
      "----------------------------------\n",
      "\n",
      "Epoch  28\n",
      "      |   loss  |   acc  |   f1   |\n",
      "TRAIN |  0.1281 |  0.953 |  0.935 |\n",
      "VALID |  0.1822 |  0.927 |  0.878 |\n",
      "----------------------------------\n",
      "\n",
      "Epoch  29\n",
      "      |   loss  |   acc  |   f1   |\n",
      "TRAIN |  0.1243 |  0.953 |  0.935 |\n",
      "VALID |  0.1922 |  0.930 |  0.871 |\n",
      "----------------------------------\n",
      "\n",
      "Epoch  30\n",
      "      |   loss  |   acc  |   f1   |\n",
      "TRAIN |  0.1218 |  0.951 |  0.932 |\n",
      "VALID |  0.1890 |  0.927 |  0.862 |\n",
      "----------------------------------\n",
      "\n",
      "Epoch  31\n",
      "      |   loss  |   acc  |   f1   |\n",
      "TRAIN |  0.1154 |  0.956 |  0.939 |\n",
      "VALID |  0.1897 |  0.927 |  0.873 |\n",
      "----------------------------------\n",
      "\n",
      "Epoch  32\n",
      "      |   loss  |   acc  |   f1   |\n",
      "TRAIN |  0.1075 |  0.958 |  0.942 |\n",
      "VALID |  0.1847 |  0.928 |  0.872 |\n",
      "----------------------------------\n",
      "\n",
      "Epoch  33\n",
      "      |   loss  |   acc  |   f1   |\n",
      "TRAIN |  0.1303 |  0.947 |  0.926 |\n",
      "VALID |  0.1768 |  0.932 |  0.875 |\n",
      "----------------------------------\n",
      "\n",
      "Epoch  34\n",
      "      |   loss  |   acc  |   f1   |\n",
      "TRAIN |  0.1061 |  0.962 |  0.946 |\n",
      "VALID |  0.1657 |  0.932 |  0.883 |\n",
      "----------------------------------\n",
      "\n",
      "Epoch  35\n",
      "      |   loss  |   acc  |   f1   |\n",
      "TRAIN |  0.1090 |  0.954 |  0.936 |\n",
      "VALID |  0.1851 |  0.925 |  0.861 |\n",
      "----------------------------------\n",
      "\n",
      "Epoch  36\n",
      "      |   loss  |   acc  |   f1   |\n",
      "TRAIN |  0.1099 |  0.958 |  0.942 |\n",
      "VALID |  0.1842 |  0.924 |  0.867 |\n",
      "----------------------------------\n",
      "\n",
      "Epoch  37\n",
      "      |   loss  |   acc  |   f1   |\n",
      "TRAIN |  0.1053 |  0.960 |  0.945 |\n",
      "VALID |  0.1699 |  0.934 |  0.878 |\n",
      "----------------------------------\n",
      "\n",
      "Epoch  38\n",
      "      |   loss  |   acc  |   f1   |\n",
      "TRAIN |  0.0924 |  0.965 |  0.951 |\n",
      "VALID |  0.2067 |  0.924 |  0.862 |\n",
      "----------------------------------\n",
      "\n",
      "Epoch  39\n",
      "      |   loss  |   acc  |   f1   |\n",
      "TRAIN |  0.0927 |  0.967 |  0.954 |\n",
      "VALID |  0.1673 |  0.933 |  0.886 |\n",
      "----------------------------------\n",
      "\n",
      "Epoch  40\n",
      "      |   loss  |   acc  |   f1   |\n",
      "TRAIN |  0.0981 |  0.963 |  0.949 |\n",
      "VALID |  0.1974 |  0.932 |  0.873 |\n",
      "----------------------------------\n",
      "\n",
      "Epoch  41\n",
      "      |   loss  |   acc  |   f1   |\n",
      "TRAIN |  0.0940 |  0.962 |  0.948 |\n",
      "VALID |  0.1823 |  0.931 |  0.873 |\n",
      "----------------------------------\n",
      "\n",
      "Epoch  42\n",
      "      |   loss  |   acc  |   f1   |\n",
      "TRAIN |  0.0908 |  0.965 |  0.951 |\n",
      "VALID |  0.1930 |  0.924 |  0.867 |\n",
      "----------------------------------\n",
      "\n",
      "Epoch  43\n",
      "      |   loss  |   acc  |   f1   |\n",
      "TRAIN |  0.0949 |  0.965 |  0.952 |\n",
      "VALID |  0.1954 |  0.925 |  0.847 |\n",
      "----------------------------------\n",
      "\n",
      "Epoch  44\n",
      "      |   loss  |   acc  |   f1   |\n",
      "TRAIN |  0.0870 |  0.966 |  0.953 |\n",
      "VALID |  0.1685 |  0.940 |  0.895 |\n",
      "----------------------------------\n",
      "\n",
      "Epoch  45\n",
      "      |   loss  |   acc  |   f1   |\n",
      "TRAIN |  0.0810 |  0.972 |  0.962 |\n",
      "VALID |  0.2160 |  0.921 |  0.862 |\n",
      "----------------------------------\n",
      "\n",
      "Epoch  46\n",
      "      |   loss  |   acc  |   f1   |\n",
      "TRAIN |  0.0871 |  0.965 |  0.952 |\n",
      "VALID |  0.1746 |  0.934 |  0.883 |\n",
      "----------------------------------\n",
      "\n",
      "Epoch  47\n",
      "      |   loss  |   acc  |   f1   |\n",
      "TRAIN |  0.0840 |  0.968 |  0.956 |\n",
      "VALID |  0.1913 |  0.925 |  0.856 |\n",
      "----------------------------------\n",
      "\n",
      "Epoch  48\n",
      "      |   loss  |   acc  |   f1   |\n",
      "TRAIN |  0.0855 |  0.969 |  0.956 |\n",
      "VALID |  0.1767 |  0.933 |  0.881 |\n",
      "----------------------------------\n",
      "\n",
      "Epoch  49\n",
      "      |   loss  |   acc  |   f1   |\n",
      "TRAIN |  0.0809 |  0.968 |  0.956 |\n",
      "VALID |  0.1808 |  0.930 |  0.875 |\n",
      "----------------------------------\n",
      "\n",
      "Epoch  50\n",
      "      |   loss  |   acc  |   f1   |\n",
      "TRAIN |  0.0776 |  0.971 |  0.959 |\n",
      "VALID |  0.2364 |  0.922 |  0.846 |\n",
      "----------------------------------\n",
      "\n",
      "Epoch  51\n",
      "      |   loss  |   acc  |   f1   |\n",
      "TRAIN |  0.0826 |  0.968 |  0.956 |\n",
      "VALID |  0.1880 |  0.932 |  0.887 |\n",
      "----------------------------------\n",
      "\n",
      "Epoch  52\n",
      "      |   loss  |   acc  |   f1   |\n",
      "TRAIN |  0.0793 |  0.971 |  0.960 |\n",
      "VALID |  0.1675 |  0.936 |  0.892 |\n",
      "----------------------------------\n",
      "\n",
      "Epoch  53\n",
      "      |   loss  |   acc  |   f1   |\n",
      "TRAIN |  0.0775 |  0.970 |  0.959 |\n",
      "VALID |  0.1695 |  0.938 |  0.896 |\n",
      "----------------------------------\n",
      "\n",
      "Epoch  54\n",
      "      |   loss  |   acc  |   f1   |\n",
      "TRAIN |  0.0667 |  0.976 |  0.967 |\n",
      "VALID |  0.1693 |  0.937 |  0.899 |\n",
      "----------------------------------\n",
      "\n",
      "Epoch  55\n",
      "      |   loss  |   acc  |   f1   |\n",
      "TRAIN |  0.0740 |  0.974 |  0.964 |\n",
      "VALID |  0.1525 |  0.940 |  0.895 |\n",
      "----------------------------------\n",
      "\n",
      "Epoch  56\n",
      "      |   loss  |   acc  |   f1   |\n",
      "TRAIN |  0.0726 |  0.975 |  0.966 |\n",
      "VALID |  0.1612 |  0.937 |  0.888 |\n",
      "----------------------------------\n",
      "\n",
      "Epoch  57\n",
      "      |   loss  |   acc  |   f1   |\n",
      "TRAIN |  0.0747 |  0.972 |  0.960 |\n",
      "VALID |  0.1556 |  0.940 |  0.910 |\n",
      "----------------------------------\n",
      "\n",
      "Epoch  58\n",
      "      |   loss  |   acc  |   f1   |\n",
      "TRAIN |  0.0637 |  0.976 |  0.966 |\n",
      "VALID |  0.1650 |  0.939 |  0.900 |\n",
      "----------------------------------\n",
      "\n",
      "Epoch  59\n",
      "      |   loss  |   acc  |   f1   |\n",
      "TRAIN |  0.0794 |  0.971 |  0.960 |\n",
      "VALID |  0.1630 |  0.934 |  0.878 |\n",
      "----------------------------------\n",
      "\n",
      "Epoch  60\n",
      "      |   loss  |   acc  |   f1   |\n",
      "TRAIN |  0.0653 |  0.976 |  0.967 |\n",
      "VALID |  0.1581 |  0.945 |  0.901 |\n",
      "----------------------------------\n",
      "\n",
      "Epoch  61\n",
      "      |   loss  |   acc  |   f1   |\n",
      "TRAIN |  0.0638 |  0.977 |  0.966 |\n",
      "VALID |  0.1674 |  0.941 |  0.895 |\n",
      "----------------------------------\n",
      "\n",
      "Epoch  62\n",
      "      |   loss  |   acc  |   f1   |\n",
      "TRAIN |  0.0812 |  0.970 |  0.957 |\n",
      "VALID |  0.1656 |  0.940 |  0.891 |\n",
      "----------------------------------\n",
      "\n",
      "Epoch  63\n",
      "      |   loss  |   acc  |   f1   |\n",
      "TRAIN |  0.0654 |  0.974 |  0.965 |\n",
      "VALID |  0.1693 |  0.941 |  0.898 |\n",
      "----------------------------------\n",
      "\n",
      "Epoch  64\n",
      "      |   loss  |   acc  |   f1   |\n",
      "TRAIN |  0.0637 |  0.976 |  0.967 |\n",
      "VALID |  0.1594 |  0.946 |  0.912 |\n",
      "----------------------------------\n",
      "\n",
      "Epoch  65\n",
      "      |   loss  |   acc  |   f1   |\n",
      "TRAIN |  0.0786 |  0.969 |  0.958 |\n",
      "VALID |  0.2052 |  0.939 |  0.881 |\n",
      "----------------------------------\n",
      "\n",
      "Epoch  66\n",
      "      |   loss  |   acc  |   f1   |\n",
      "TRAIN |  0.0743 |  0.972 |  0.961 |\n",
      "VALID |  0.1605 |  0.946 |  0.913 |\n",
      "----------------------------------\n",
      "\n",
      "Epoch  67\n",
      "      |   loss  |   acc  |   f1   |\n",
      "TRAIN |  0.0639 |  0.980 |  0.972 |\n",
      "VALID |  0.1854 |  0.934 |  0.881 |\n",
      "----------------------------------\n",
      "\n",
      "Epoch  68\n",
      "      |   loss  |   acc  |   f1   |\n",
      "TRAIN |  0.0710 |  0.972 |  0.960 |\n",
      "VALID |  0.1836 |  0.935 |  0.880 |\n",
      "----------------------------------\n",
      "\n",
      "Epoch  69\n",
      "      |   loss  |   acc  |   f1   |\n",
      "TRAIN |  0.0637 |  0.977 |  0.969 |\n",
      "VALID |  0.1601 |  0.941 |  0.903 |\n",
      "----------------------------------\n",
      "\n",
      "Epoch  70\n",
      "      |   loss  |   acc  |   f1   |\n",
      "TRAIN |  0.0502 |  0.983 |  0.976 |\n",
      "VALID |  0.1548 |  0.947 |  0.908 |\n",
      "----------------------------------\n",
      "\n",
      "Epoch  71\n",
      "      |   loss  |   acc  |   f1   |\n",
      "TRAIN |  0.0677 |  0.974 |  0.965 |\n",
      "VALID |  0.1716 |  0.943 |  0.899 |\n",
      "----------------------------------\n",
      "\n",
      "Epoch  72\n",
      "      |   loss  |   acc  |   f1   |\n",
      "TRAIN |  0.0617 |  0.976 |  0.967 |\n",
      "VALID |  0.1579 |  0.944 |  0.893 |\n",
      "----------------------------------\n",
      "\n",
      "Epoch  73\n",
      "      |   loss  |   acc  |   f1   |\n",
      "TRAIN |  0.0627 |  0.976 |  0.967 |\n",
      "VALID |  0.1668 |  0.945 |  0.909 |\n",
      "----------------------------------\n",
      "\n",
      "Epoch  74\n",
      "      |   loss  |   acc  |   f1   |\n",
      "TRAIN |  0.0636 |  0.975 |  0.965 |\n",
      "VALID |  0.1769 |  0.942 |  0.897 |\n",
      "----------------------------------\n",
      "\n",
      "Epoch  75\n",
      "      |   loss  |   acc  |   f1   |\n",
      "TRAIN |  0.0585 |  0.979 |  0.971 |\n",
      "VALID |  0.1618 |  0.941 |  0.888 |\n",
      "----------------------------------\n",
      "\n",
      "Epoch  76\n",
      "      |   loss  |   acc  |   f1   |\n",
      "TRAIN |  0.0530 |  0.983 |  0.976 |\n",
      "VALID |  0.1682 |  0.938 |  0.879 |\n",
      "----------------------------------\n",
      "\n",
      "Epoch  77\n",
      "      |   loss  |   acc  |   f1   |\n",
      "TRAIN |  0.0627 |  0.980 |  0.973 |\n",
      "VALID |  0.1708 |  0.946 |  0.899 |\n",
      "----------------------------------\n",
      "\n",
      "Epoch  78\n",
      "      |   loss  |   acc  |   f1   |\n",
      "TRAIN |  0.0523 |  0.982 |  0.974 |\n",
      "VALID |  0.1661 |  0.940 |  0.898 |\n",
      "----------------------------------\n",
      "\n",
      "Epoch  79\n",
      "      |   loss  |   acc  |   f1   |\n",
      "TRAIN |  0.0466 |  0.984 |  0.977 |\n",
      "VALID |  0.1496 |  0.951 |  0.911 |\n",
      "----------------------------------\n",
      "\n",
      "Epoch  80\n",
      "      |   loss  |   acc  |   f1   |\n",
      "TRAIN |  0.0582 |  0.979 |  0.971 |\n",
      "VALID |  0.1810 |  0.937 |  0.881 |\n",
      "----------------------------------\n",
      "\n",
      "Epoch  81\n",
      "      |   loss  |   acc  |   f1   |\n",
      "TRAIN |  0.0486 |  0.982 |  0.975 |\n",
      "VALID |  0.1621 |  0.943 |  0.900 |\n",
      "----------------------------------\n",
      "\n",
      "Epoch  82\n",
      "      |   loss  |   acc  |   f1   |\n",
      "TRAIN |  0.0533 |  0.979 |  0.971 |\n",
      "VALID |  0.1687 |  0.938 |  0.889 |\n",
      "----------------------------------\n",
      "\n",
      "Epoch  83\n",
      "      |   loss  |   acc  |   f1   |\n",
      "TRAIN |  0.0566 |  0.978 |  0.970 |\n",
      "VALID |  0.1620 |  0.949 |  0.900 |\n",
      "----------------------------------\n",
      "\n",
      "Epoch  84\n",
      "      |   loss  |   acc  |   f1   |\n",
      "TRAIN |  0.0616 |  0.977 |  0.969 |\n",
      "VALID |  0.1736 |  0.941 |  0.900 |\n",
      "----------------------------------\n",
      "\n",
      "Epoch  85\n",
      "      |   loss  |   acc  |   f1   |\n",
      "TRAIN |  0.0545 |  0.980 |  0.973 |\n",
      "VALID |  0.1703 |  0.947 |  0.897 |\n",
      "----------------------------------\n",
      "\n",
      "Epoch  86\n",
      "      |   loss  |   acc  |   f1   |\n",
      "TRAIN |  0.0552 |  0.979 |  0.971 |\n",
      "VALID |  0.1585 |  0.947 |  0.912 |\n",
      "----------------------------------\n",
      "\n",
      "Epoch  87\n",
      "      |   loss  |   acc  |   f1   |\n",
      "TRAIN |  0.0425 |  0.985 |  0.978 |\n",
      "VALID |  0.1614 |  0.952 |  0.910 |\n",
      "----------------------------------\n",
      "\n",
      "Epoch  88\n",
      "      |   loss  |   acc  |   f1   |\n",
      "TRAIN |  0.0499 |  0.981 |  0.973 |\n",
      "VALID |  0.1688 |  0.950 |  0.909 |\n",
      "----------------------------------\n",
      "\n",
      "Epoch  89\n",
      "      |   loss  |   acc  |   f1   |\n",
      "TRAIN |  0.0462 |  0.982 |  0.976 |\n",
      "VALID |  0.1738 |  0.941 |  0.888 |\n",
      "----------------------------------\n",
      "\n",
      "Epoch  90\n",
      "      |   loss  |   acc  |   f1   |\n",
      "TRAIN |  0.0489 |  0.981 |  0.974 |\n",
      "VALID |  0.1983 |  0.941 |  0.889 |\n",
      "----------------------------------\n",
      "\n",
      "Epoch  91\n",
      "      |   loss  |   acc  |   f1   |\n",
      "TRAIN |  0.0474 |  0.982 |  0.975 |\n",
      "VALID |  0.1579 |  0.947 |  0.906 |\n",
      "----------------------------------\n",
      "\n",
      "Epoch  92\n",
      "      |   loss  |   acc  |   f1   |\n",
      "TRAIN |  0.0400 |  0.986 |  0.981 |\n",
      "VALID |  0.1721 |  0.949 |  0.909 |\n",
      "----------------------------------\n",
      "\n",
      "Epoch  93\n",
      "      |   loss  |   acc  |   f1   |\n",
      "TRAIN |  0.0456 |  0.986 |  0.981 |\n",
      "VALID |  0.1837 |  0.940 |  0.894 |\n",
      "----------------------------------\n",
      "\n",
      "Epoch  94\n",
      "      |   loss  |   acc  |   f1   |\n",
      "TRAIN |  0.0471 |  0.984 |  0.977 |\n",
      "VALID |  0.1973 |  0.941 |  0.895 |\n",
      "----------------------------------\n",
      "\n",
      "Epoch  95\n",
      "      |   loss  |   acc  |   f1   |\n",
      "TRAIN |  0.0449 |  0.985 |  0.980 |\n",
      "VALID |  0.1671 |  0.948 |  0.917 |\n",
      "----------------------------------\n",
      "\n",
      "Epoch  96\n",
      "      |   loss  |   acc  |   f1   |\n",
      "TRAIN |  0.0503 |  0.981 |  0.975 |\n",
      "VALID |  0.1689 |  0.946 |  0.910 |\n",
      "----------------------------------\n",
      "\n",
      "Epoch  97\n",
      "      |   loss  |   acc  |   f1   |\n",
      "TRAIN |  0.0492 |  0.983 |  0.976 |\n",
      "VALID |  0.1640 |  0.951 |  0.912 |\n",
      "----------------------------------\n",
      "\n",
      "Epoch  98\n",
      "      |   loss  |   acc  |   f1   |\n",
      "TRAIN |  0.0430 |  0.985 |  0.978 |\n",
      "VALID |  0.1627 |  0.949 |  0.905 |\n",
      "----------------------------------\n",
      "\n",
      "Epoch  99\n",
      "      |   loss  |   acc  |   f1   |\n",
      "TRAIN |  0.0445 |  0.986 |  0.981 |\n",
      "VALID |  0.1747 |  0.946 |  0.905 |\n",
      "----------------------------------\n",
      "\n"
     ]
    }
   ],
   "source": [
    "train_n = len(train_dataset)\n",
    "valid_n = len(valid_dataset)\n",
    "\n",
    "for e in range(1, 100):\n",
    "    # init metrics for this epoch  # (1)\n",
    "    train_loss = 0\n",
    "    train_acc = 0\n",
    "    train_f1_score = 0\n",
    "    valid_loss = 0\n",
    "    valid_acc = 0\n",
    "    valid_f1_score = 0\n",
    "    \n",
    "    # train part\n",
    "    model.train()  # (2)\n",
    "    for audio_feature, label in train_loader:\n",
    "        audio_feature = audio_feature.to(device)  # (3)\n",
    "        label = label.to(device)\n",
    "        optimizer.zero_grad()  # (4)\n",
    "        \n",
    "        pred = model(audio_feature)  # (5)\n",
    "        \n",
    "        loss = criterion(pred, label)  # (6)\n",
    "        loss.backward()  # (7)\n",
    "        optimizer.step()  # (8)\n",
    "\n",
    "        pred = torch.round(torch.sigmoid(pred))  # (9)\n",
    "        pred = pred.cpu().detach().numpy()  # (10)\n",
    "        label = label.cpu().detach().numpy()\n",
    "\n",
    "        acc = accuracy_score(label, pred)  # (11)\n",
    "        f1 = f1_score(label, pred)\n",
    "\n",
    "        n = len(label)  # (12)\n",
    "        train_loss += loss.item() * n\n",
    "        train_acc += acc.item() * n\n",
    "        train_f1_score += f1 * n\n",
    "\n",
    "    # validation part\n",
    "    model.eval()\n",
    "    with torch.no_grad():\n",
    "        for audio_feature, label in valid_loader:\n",
    "            audio_feature = audio_feature.to(device)\n",
    "            label = label.to(device)\n",
    "            \n",
    "            pred = model(audio_feature)\n",
    "\n",
    "            loss = criterion(pred, label)\n",
    "\n",
    "            pred = torch.round(torch.sigmoid(pred))\n",
    "            pred = pred.cpu().numpy()  # (13)\n",
    "            label = label.cpu().numpy()\n",
    "            \n",
    "            acc = accuracy_score(label, pred)\n",
    "            f1 = f1_score(label, pred)\n",
    "\n",
    "            n = len(label)\n",
    "            valid_acc += acc.item() * n\n",
    "            valid_loss += loss.item() * n\n",
    "            valid_f1_score += f1 * n\n",
    "\n",
    "    # calculate metrics for this epoch  # (14)\n",
    "    train_loss = f'{train_loss / train_n : .4f}'\n",
    "    train_acc = f'{train_acc / train_n : .3f}'\n",
    "    train_f1_score = f'{train_f1_score / train_n : .3f}'    \n",
    "    valid_loss = f'{valid_loss / valid_n : .4f}'\n",
    "    valid_acc = f'{valid_acc / valid_n : .3f}'\n",
    "    valid_f1_score = f'{valid_f1_score / valid_n : .3f}'\n",
    "\n",
    "    # log metrics\n",
    "    print(f'Epoch {e+0 : 03}')\n",
    "    print('      |   loss  |   acc  |   f1   |')\n",
    "    print(f'TRAIN | {train_loss} | {train_acc} | {train_f1_score} |')\n",
    "    print(f'VALID | {valid_loss} | {valid_acc} | {valid_f1_score} |')\n",
    "    print('----------------------------------')\n",
    "    print()"
   ]
  },
  {
   "cell_type": "markdown",
   "metadata": {
    "id": "YiBaJPLyJ9ne"
   },
   "source": [
    "## 모델 저장"
   ]
  },
  {
   "cell_type": "code",
   "execution_count": null,
   "metadata": {
    "id": "6lkMB_VQJ9nf"
   },
   "outputs": [],
   "source": [
    "torch.save(model.state_dict(), 'test.pth')"
   ]
  },
  {
   "cell_type": "markdown",
   "metadata": {
    "id": "jtlRiJuPJ9nf"
   },
   "source": [
    "## 모델 로드"
   ]
  },
  {
   "cell_type": "code",
   "execution_count": null,
   "metadata": {
    "id": "GD28iBrvJ9nf"
   },
   "outputs": [],
   "source": [
    "from torch import nn"
   ]
  },
  {
   "cell_type": "code",
   "execution_count": null,
   "metadata": {
    "id": "dO5WZCI6J9nf"
   },
   "outputs": [],
   "source": [
    "model = nn.Sequential(\n",
    "        nn.Conv2d(1,128,(64,1),1,0),\n",
    "        nn.BatchNorm2d(128),\n",
    "        nn.ReLU(),\n",
    "        nn.Dropout2d(p=0.5),\n",
    "        nn.Conv2d(128,128,(2,2),1,1),\n",
    "        nn.BatchNorm2d(128),\n",
    "        nn.ReLU(),\n",
    "        nn.Dropout2d(p=0.5),\n",
    "        nn.Flatten(),\n",
    "        nn.Linear(128*2*45, 1),\n",
    "    )"
   ]
  },
  {
   "cell_type": "code",
   "execution_count": null,
   "metadata": {
    "id": "u4kVUaZrJ9nf",
    "outputId": "2d3306d4-0b37-41ce-d713-5907354859e2"
   },
   "outputs": [
    {
     "data": {
      "text/plain": [
       "<All keys matched successfully>"
      ]
     },
     "execution_count": 71,
     "metadata": {
      "tags": []
     },
     "output_type": "execute_result"
    }
   ],
   "source": [
    "model.load_state_dict(torch.load('test.pth', map_location='cpu'))"
   ]
  },
  {
   "cell_type": "markdown",
   "metadata": {
    "id": "DnpGzRWFJ9nf"
   },
   "source": [
    "## 데모 실행"
   ]
  },
  {
   "cell_type": "code",
   "execution_count": null,
   "metadata": {
    "id": "7pYnzuN1J9nf"
   },
   "outputs": [],
   "source": [
    "import sys\n",
    "import numpy as np\n",
    "import pyqtgraph as pg\n",
    "import pyaudio\n",
    "from PyQt5 import QtCore, uic\n",
    "from PyQt5.QtGui import *\n",
    "from PyQt5.QtWidgets import *\n",
    "import librosa\n",
    "import torch\n",
    "import torch.nn.functional as F\n",
    "from torch import nn\n",
    "\n",
    "def feature_engineering_mel_spectrum(signal, Fs, n_mels):\n",
    "    cur_frame_temp = signal\n",
    "    mel_spectrum_temp = librosa.feature.melspectrogram(y=cur_frame_temp, sr=Fs, n_mels=n_mels, n_fft=2048, hop_length=512) # default[n_fft=2048, hop_length=512]\n",
    "    mel_spectrum_temp = librosa.core.power_to_db(mel_spectrum_temp)\n",
    "    feature_vector = mel_spectrum_temp\n",
    "    feature_vector = feature_vector[np.newaxis, :,:, np.newaxis]\n",
    "    return feature_vector\n",
    "\n",
    "class MicrophoneRecorder():\n",
    "    def __init__(self, signal):\n",
    "        self.signal = signal\n",
    "        self.p = pyaudio.PyAudio()\n",
    "        self.stream = self.p.open(\n",
    "            format=pyaudio.paFloat32,\n",
    "            channels=1,\n",
    "            rate=Fs,\n",
    "            input=True,\n",
    "            frames_per_buffer=CHUNKSZ\n",
    "        )\n",
    "\n",
    "    def read(self):\n",
    "        data = self.stream.read(CHUNKSZ, False)\n",
    "        y = np.fromstring(data, 'float32')\n",
    "        self.signal.emit(y)\n",
    "\n",
    "\n",
    "    def close(self):\n",
    "        print('멈춤')\n",
    "        self.stream.stop_stream()\n",
    "        self.stream.close()\n",
    "        self.p.terminate()\n",
    "\n",
    "\n",
    "\n",
    "form_class = uic.loadUiType(\"22.ui\")[0]\n",
    "class MyWindow(QMainWindow, form_class):\n",
    "    read_collected = QtCore.pyqtSignal(np.ndarray) ########## 클래스 함수 바깥이고, 클래스 내부로 넣어야 실행된다고 하는데 현재 안먹힘\n",
    "    def __init__(self):\n",
    "        super(MyWindow, self).__init__()\n",
    "        self.setupUi(self)\n",
    "        self.read_collected.connect(self.update) ########## 이 문장 안 돌아감\n",
    "\n",
    "        # Bargraph\n",
    "        pg.setConfigOptions(background='w', foreground='k')  # 배경 흰색으로.. ; global configuration options\n",
    "\n",
    "        # hbox = QHBoxLayout()\n",
    "        self.pw1 = pg.PlotWidget(title=\"BarGraph\")\n",
    "        self.pw1.showGrid(x=True, y=True)\n",
    "\n",
    "        self.graph_box.addWidget(self.pw1)\n",
    "        # self.setLayout(hbox)\n",
    "        self.pw1.setGeometry(4, 1, 10, 5)  # x, y, width, height\n",
    "\n",
    "        ticks = [list(zip(range(2), ('Environmental sound', 'Scream sound')))]\n",
    "        xax = self.pw1.getAxis('bottom')\n",
    "        xax.setTicks(ticks)\n",
    "        self.show()\n",
    "\n",
    "\n",
    "    def update(self, chunk):\n",
    "        global predictions_collection, prediction_i, model\n",
    "        x = np.arange(2)\n",
    "\n",
    "        feature_vector = feature_engineering_mel_spectrum(chunk, Fs, 64)\n",
    "        feature_vector = torch.tensor(feature_vector).float()\n",
    "        feature_vector = feature_vector.squeeze(3).unsqueeze(1)\n",
    "        y_softmax = float(torch.sigmoid(model(feature_vector)).detach().numpy())  # this is an n x class matrix of probabilities\n",
    "\n",
    "        if y_softmax > 0.5:\n",
    "            pixmap = QPixmap(\"img/scream.png\")\n",
    "            self.label_5.setPixmap(QPixmap(pixmap))\n",
    "        else:\n",
    "            pixmap = QPixmap(\"img/normal.png\")\n",
    "            self.label_5.setPixmap(QPixmap(pixmap))\n",
    "\n",
    "        self.pw1.clear()\n",
    "        barchart = pg.BarGraphItem(\n",
    "            x=x, height=[1 - y_softmax, y_softmax], width=1, brush=(159, 191, 229)\n",
    "        )\n",
    "        self.pw1.addItem(barchart)"
   ]
  },
  {
   "cell_type": "code",
   "execution_count": null,
   "metadata": {
    "id": "TN1WRN9-J9ng",
    "outputId": "872e6538-a6f7-4d88-895a-a120e21214c3"
   },
   "outputs": [
    {
     "name": "stderr",
     "output_type": "stream",
     "text": [
      "/Users/henris/.pyenv/versions/3.7.3/envs/scream/lib/python3.7/site-packages/ipykernel_launcher.py:35: DeprecationWarning: The binary mode of fromstring is deprecated, as it behaves surprisingly on unicode inputs. Use frombuffer instead\n",
      "/Users/henris/.pyenv/versions/3.7.3/envs/scream/lib/python3.7/site-packages/torch/distributed/distributed_c10d.py:126: UserWarning: torch.distributed.reduce_op is deprecated, please use torch.distributed.ReduceOp instead\n",
      "  warnings.warn(\"torch.distributed.reduce_op is deprecated, please use \"\n"
     ]
    },
    {
     "data": {
      "text/plain": [
       "0"
      ]
     },
     "execution_count": 2,
     "metadata": {
      "tags": []
     },
     "output_type": "execute_result"
    }
   ],
   "source": [
    "Fs = 22050  # Hz\n",
    "CHUNKSZ = 22050  # samples\n",
    "\n",
    "model_dir = 'test.pth'\n",
    "model = nn.Sequential(\n",
    "    nn.Conv2d(1,128,(64,1),1,0),\n",
    "    nn.BatchNorm2d(128),\n",
    "    nn.ReLU(),\n",
    "    nn.Dropout2d(p=0.5),\n",
    "    nn.Conv2d(128,128,(2,2),1,1),\n",
    "    nn.BatchNorm2d(128),\n",
    "    nn.ReLU(),\n",
    "    nn.Dropout2d(p=0.5),\n",
    "    nn.Flatten(),\n",
    "    nn.Linear(128*2*45, 1),\n",
    ")\n",
    "model.load_state_dict(torch.load(model_dir, map_location='cpu'))\n",
    "\n",
    "prediction_i = 0\n",
    "predictions_collection = []\n",
    "\n",
    "\n",
    "app = QApplication(sys.argv)\n",
    "myWindow = MyWindow()\n",
    "mic = MicrophoneRecorder(myWindow.read_collected)  ########### 마이크는 열리는데 read_collected가 안되는 상황\n",
    "\n",
    "# time (seconds) between reads\n",
    "interval = Fs / CHUNKSZ\n",
    "t = QtCore.QTimer()\n",
    "t.timeout.connect(mic.read)\n",
    "t.start(500)  # QTimer takes ms\n",
    "\n",
    "myWindow.show()\n",
    "app.exec_()"
   ]
  },
  {
   "cell_type": "code",
   "execution_count": null,
   "metadata": {
    "id": "kGrxbSMZJ9ng"
   },
   "outputs": [],
   "source": []
  }
 ],
 "metadata": {
  "accelerator": "GPU",
  "colab": {
   "collapsed_sections": [
    "jtlRiJuPJ9nf",
    "DnpGzRWFJ9nf"
   ],
   "name": "example.ipynb",
   "provenance": [],
   "toc_visible": true
  },
  "kernelspec": {
   "display_name": "Python 3",
   "language": "python",
   "name": "python3"
  },
  "language_info": {
   "codemirror_mode": {
    "name": "ipython",
    "version": 3
   },
   "file_extension": ".py",
   "mimetype": "text/x-python",
   "name": "python",
   "nbconvert_exporter": "python",
   "pygments_lexer": "ipython3",
   "version": "3.7.3"
  }
 },
 "nbformat": 4,
 "nbformat_minor": 4
}
