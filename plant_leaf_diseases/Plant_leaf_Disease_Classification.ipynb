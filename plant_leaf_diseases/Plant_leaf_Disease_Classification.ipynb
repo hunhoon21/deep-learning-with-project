{
  "nbformat": 4,
  "nbformat_minor": 0,
  "metadata": {
    "colab": {
      "name": "Plant_leaf_Disease_Classification.ipynb",
      "provenance": [],
      "collapsed_sections": [
        "DCSgqiI3VRiS"
      ]
    },
    "kernelspec": {
      "name": "python3",
      "display_name": "Python 3"
    },
    "accelerator": "GPU"
  },
  "cells": [
    {
      "cell_type": "markdown",
      "metadata": {
        "id": "7ZMSYEeaSOkD"
      },
      "source": [
        "# Plant Leaf Disease Classification"
      ]
    },
    {
      "cell_type": "code",
      "metadata": {
        "id": "telA1OmoTT-A"
      },
      "source": [
        "import torch \n",
        "import torchvision\n",
        "import torchvision.transforms as transforms \n",
        "import numpy as np \n",
        "from torchvision.datasets import ImageFolder\n",
        "from torch.autograd import Variable\n",
        "import torch.nn as nn\n",
        "import torch.nn.functional as F\n",
        "import torch.optim as optim\n",
        "from torch.optim import lr_scheduler\n",
        "from torch.utils.data import DataLoader, TensorDataset\n",
        "from PIL import Image\n",
        "from matplotlib import pyplot as plt\n",
        "from matplotlib import cm\n",
        "import pandas as pd\n",
        "import os\n",
        "from torchvision import datasets, models, transforms\n",
        "import time\n",
        "import copy\n",
        "from torch.optim.lr_scheduler import ReduceLROnPlateau \n",
        "from torch.utils.data.sampler import WeightedRandomSampler"
      ],
      "execution_count": null,
      "outputs": []
    },
    {
      "cell_type": "markdown",
      "metadata": {
        "id": "Btozx60gSkCX"
      },
      "source": [
        "**잎 사진을 통한 질병 분류**\n",
        "\n",
        "*   데이터: 33개의 클래스로 구분된 약 40000장의 이미지\n",
        "><img src=\"https://drive.google.com/uc?id=1YQkxnNy61Gyi3Gp6ylCKeS72BVruJXr_\" width=\"700\" height=\"500\"> \n",
        "*   데이터 전처리\n",
        "    *   전체 데이터를 6:2:2의 비율로 train,validation,test로 나눔\n",
        "    *   augmentation을 통한 클래스 별 불균형 해소\n",
        "    \n",
        "*   학습 진행 방향\n",
        "    *   Baseline 모델(pre-trained model 사용X) 구축\n",
        "    *   Pre-trained 모델 사용: Resnet50\n",
        "    1.   Baseline 모델 비교: split된 원본 데이터 사용, oversampling된 데이터 사용\n",
        "    2.   Pre-trained 모델 비교: Baseline,ResNet50 성능 비교"
      ]
    },
    {
      "cell_type": "code",
      "metadata": {
        "id": "LSXsUPLeJYmh",
        "outputId": "04599568-6ee6-4ccc-b061-fb6068c36ea7",
        "colab": {
          "base_uri": "https://localhost:8080/",
          "height": 34
        }
      },
      "source": [
        "# gdrive에 mount\n",
        "from google.colab import drive\n",
        "drive.mount('/content/gdrive')\n",
        "# 경로 설정\n",
        "import os\n",
        "os.chdir('/content/gdrive/My Drive/')"
      ],
      "execution_count": null,
      "outputs": [
        {
          "output_type": "stream",
          "text": [
            "Drive already mounted at /content/gdrive; to attempt to forcibly remount, call drive.mount(\"/content/gdrive\", force_remount=True).\n"
          ],
          "name": "stdout"
        }
      ]
    },
    {
      "cell_type": "markdown",
      "metadata": {
        "id": "pkuEkp7ESaDl"
      },
      "source": [
        "## **데이터 전처리**"
      ]
    },
    {
      "cell_type": "markdown",
      "metadata": {
        "id": "DCSgqiI3VRiS"
      },
      "source": [
        "### Split raw data → 6:2:2"
      ]
    },
    {
      "cell_type": "code",
      "metadata": {
        "id": "Xoel82EV-tXI"
      },
      "source": [
        "import os, shutil\n",
        "\n",
        "# 원본 데이터 경로\n",
        "original_dataset_dir = '/content/gdrive/My Drive/Plant_leaf_sample'\n",
        "\n",
        "# 클래스 list\n",
        "classes_list = os.listdir(original_dataset_dir)\n",
        "\n",
        "# split한 데이터를 저장할 디렉토리 지정 후 생성\n",
        "base_dir = '/content/gdrive/My Drive/plant_leaf/dataset_split_raw'\n",
        "os.mkdir(base_dir)\n",
        "\n",
        "# train/validation/test 하위 폴더 생성\n",
        "train_dir = os.path.join(base_dir, 'train')\n",
        "os.mkdir(train_dir)\n",
        "validation_dir = os.path.join(base_dir, 'val')\n",
        "os.mkdir(validation_dir)\n",
        "test_dir = os.path.join(base_dir, 'test')\n",
        "os.mkdir(test_dir)\n",
        "\n",
        "\n",
        "for cls in classes_list:\n",
        "    # train 하위 폴더로 클래스 별 폴더 생성\n",
        "    os.mkdir(os.path.join(train_dir, cls))\n",
        "    \n",
        "    # validation 하위 폴더로 클래스 별 폴더 생성\n",
        "    os.mkdir(os.path.join(validation_dir, cls))\n",
        "    \n",
        "    # test 하위 폴더로 클래스 별 폴더 생성\n",
        "    os.mkdir(os.path.join(test_dir, cls))"
      ],
      "execution_count": null,
      "outputs": []
    },
    {
      "cell_type": "code",
      "metadata": {
        "id": "2ZoDypWE_Dwg",
        "outputId": "fe5d28c1-fed2-4b3d-cbdc-dc5b19a048fc",
        "colab": {
          "base_uri": "https://localhost:8080/",
          "height": 1000
        }
      },
      "source": [
        "import math\n",
        "\n",
        "for cls in classes_list:\n",
        "    path = os.path.join(original_dataset_dir, cls)\n",
        "    fnames = os.listdir(path)\n",
        "    # 데이터 나눌 비율 지정 (6:2:2)\n",
        "    train_size = math.floor(len(fnames) * 0.6)\n",
        "    validation_size = math.floor(len(fnames) * 0.2)\n",
        "    test_size = math.floor(len(fnames) * 0.2)\n",
        "    \n",
        "    train_fnames = fnames[:train_size]\n",
        "    print(\"Train size(\",cls,\"): \", len(train_fnames))\n",
        "    for fname in train_fnames:\n",
        "        src = os.path.join(path, fname)\n",
        "        dst = os.path.join(os.path.join(train_dir, cls), fname)\n",
        "        shutil.copyfile(src, dst)\n",
        "        \n",
        "    validation_fnames = fnames[train_size:(validation_size + train_size)]\n",
        "    print(\"Validation size(\",cls,\"): \", len(validation_fnames))\n",
        "    for fname in validation_fnames:\n",
        "        src = os.path.join(path, fname)\n",
        "        dst = os.path.join(os.path.join(validation_dir, cls), fname)\n",
        "        shutil.copyfile(src, dst)\n",
        "        \n",
        "    test_fnames = fnames[(train_size+validation_size):(validation_size + train_size +test_size)]\n",
        "    print(\"Test size(\",cls,\"): \", len(test_fnames))\n",
        "    for fname in test_fnames:\n",
        "        src = os.path.join(path, fname)\n",
        "        dst = os.path.join(os.path.join(test_dir, cls), fname)\n",
        "        shutil.copyfile(src, dst)"
      ],
      "execution_count": null,
      "outputs": [
        {
          "output_type": "stream",
          "text": [
            "Train size( Tomato___Target_Spot ):  75\n",
            "Validation size( Tomato___Target_Spot ):  25\n",
            "Test size( Tomato___Target_Spot ):  25\n",
            "Train size( Tomato___Leaf_Mold ):  58\n",
            "Validation size( Tomato___Leaf_Mold ):  19\n",
            "Test size( Tomato___Leaf_Mold ):  19\n",
            "Train size( Tomato___Septoria_leaf_spot ):  75\n",
            "Validation size( Tomato___Septoria_leaf_spot ):  25\n",
            "Test size( Tomato___Septoria_leaf_spot ):  25\n",
            "Train size( Tomato___healthy ):  67\n",
            "Validation size( Tomato___healthy ):  22\n",
            "Test size( Tomato___healthy ):  22\n",
            "Train size( Tomato___Bacterial_spot ):  50\n",
            "Validation size( Tomato___Bacterial_spot ):  16\n",
            "Test size( Tomato___Bacterial_spot ):  16\n",
            "Train size( Tomato___Late_blight ):  54\n",
            "Validation size( Tomato___Late_blight ):  18\n",
            "Test size( Tomato___Late_blight ):  18\n",
            "Train size( Tomato___Spider_mites Two-spotted_spider_mite ):  63\n",
            "Validation size( Tomato___Spider_mites Two-spotted_spider_mite ):  21\n",
            "Test size( Tomato___Spider_mites Two-spotted_spider_mite ):  21\n",
            "Train size( Tomato___Early_blight ):  54\n",
            "Validation size( Tomato___Early_blight ):  18\n",
            "Test size( Tomato___Early_blight ):  18\n",
            "Train size( Tomato___Tomato_mosaic_virus ):  58\n",
            "Validation size( Tomato___Tomato_mosaic_virus ):  19\n",
            "Test size( Tomato___Tomato_mosaic_virus ):  19\n",
            "Train size( Tomato___Tomato_Yellow_Leaf_Curl_Virus ):  54\n",
            "Validation size( Tomato___Tomato_Yellow_Leaf_Curl_Virus ):  18\n",
            "Test size( Tomato___Tomato_Yellow_Leaf_Curl_Virus ):  18\n",
            "Train size( Strawberry___Leaf_scorch ):  67\n",
            "Validation size( Strawberry___Leaf_scorch ):  22\n",
            "Test size( Strawberry___Leaf_scorch ):  22\n",
            "Train size( Potato___Late_blight ):  63\n",
            "Validation size( Potato___Late_blight ):  21\n",
            "Test size( Potato___Late_blight ):  21\n",
            "Train size( Potato___Early_blight ):  63\n",
            "Validation size( Potato___Early_blight ):  21\n",
            "Test size( Potato___Early_blight ):  21\n",
            "Train size( Pepper__bell___Bacterial_spot ):  75\n",
            "Validation size( Pepper__bell___Bacterial_spot ):  25\n",
            "Test size( Pepper__bell___Bacterial_spot ):  25\n",
            "Train size( Peach___Bacterial_spot ):  54\n",
            "Validation size( Peach___Bacterial_spot ):  18\n",
            "Test size( Peach___Bacterial_spot ):  18\n",
            "Train size( Strawberry___healthy ):  58\n",
            "Validation size( Strawberry___healthy ):  19\n",
            "Test size( Strawberry___healthy ):  19\n",
            "Train size( Grape___Leaf_blight_(Isariopsis_Leaf_Spot) ):  67\n",
            "Validation size( Grape___Leaf_blight_(Isariopsis_Leaf_Spot) ):  22\n",
            "Test size( Grape___Leaf_blight_(Isariopsis_Leaf_Spot) ):  22\n",
            "Train size( Potato___healthy ):  58\n",
            "Validation size( Potato___healthy ):  19\n",
            "Test size( Potato___healthy ):  19\n",
            "Train size( Pepper__bell___healthy ):  63\n",
            "Validation size( Pepper__bell___healthy ):  21\n",
            "Test size( Pepper__bell___healthy ):  21\n",
            "Train size( Peach___healthy ):  75\n",
            "Validation size( Peach___healthy ):  25\n",
            "Test size( Peach___healthy ):  25\n",
            "Train size( Grape___healthy ):  58\n",
            "Validation size( Grape___healthy ):  19\n",
            "Test size( Grape___healthy ):  19\n",
            "Train size( Cherry___healthy ):  63\n",
            "Validation size( Cherry___healthy ):  21\n",
            "Test size( Cherry___healthy ):  21\n",
            "Train size( Corn___Northern_Leaf_Blight ):  54\n",
            "Validation size( Corn___Northern_Leaf_Blight ):  18\n",
            "Test size( Corn___Northern_Leaf_Blight ):  18\n",
            "Train size( Corn___healthy ):  54\n",
            "Validation size( Corn___healthy ):  18\n",
            "Test size( Corn___healthy ):  18\n",
            "Train size( Apple___healthy ):  67\n",
            "Validation size( Apple___healthy ):  22\n",
            "Test size( Apple___healthy ):  22\n",
            "Train size( Cherry___Powdery_mildew ):  63\n",
            "Validation size( Cherry___Powdery_mildew ):  21\n",
            "Test size( Cherry___Powdery_mildew ):  21\n",
            "Train size( Grape___Black_rot ):  58\n",
            "Validation size( Grape___Black_rot ):  19\n",
            "Test size( Grape___Black_rot ):  19\n",
            "Train size( Grape___Esca_(Black_Measles) ):  54\n",
            "Validation size( Grape___Esca_(Black_Measles) ):  18\n",
            "Test size( Grape___Esca_(Black_Measles) ):  18\n",
            "Train size( Corn___Common_rust ):  54\n",
            "Validation size( Corn___Common_rust ):  18\n",
            "Test size( Corn___Common_rust ):  18\n",
            "Train size( Corn___Cercospora_leaf_spot ):  63\n",
            "Validation size( Corn___Cercospora_leaf_spot ):  21\n",
            "Test size( Corn___Cercospora_leaf_spot ):  21\n",
            "Train size( Apple___Cedar_apple_rust ):  71\n",
            "Validation size( Apple___Cedar_apple_rust ):  23\n",
            "Test size( Apple___Cedar_apple_rust ):  23\n",
            "Train size( Apple___Apple_scab ):  50\n",
            "Validation size( Apple___Apple_scab ):  16\n",
            "Test size( Apple___Apple_scab ):  16\n",
            "Train size( Apple___Black_rot ):  71\n",
            "Validation size( Apple___Black_rot ):  23\n",
            "Test size( Apple___Black_rot ):  23\n"
          ],
          "name": "stdout"
        }
      ]
    },
    {
      "cell_type": "markdown",
      "metadata": {
        "id": "jhBecaxmjtnR"
      },
      "source": [
        "random split 진행 후 데이터 수\n",
        "\n",
        "><img src=\"https://drive.google.com/uc?id=1e4huPE5W5WCSYSf7P2XDRtyscT1ocOYH\" width=\"400\" height=\"500\">"
      ]
    },
    {
      "cell_type": "markdown",
      "metadata": {
        "id": "tnl_3GU8qTdR"
      },
      "source": [
        "클래스 별 이미지 개수 차이가 크다는 것을 알 수 있다. 데이터 수가 900개 미만인 클래스에 augmentation을 이용하여 오버샘플링을 진행하였다."
      ]
    },
    {
      "cell_type": "markdown",
      "metadata": {
        "id": "-4AJ6xqNU7SW"
      },
      "source": [
        "### class imbalance 보완"
      ]
    },
    {
      "cell_type": "code",
      "metadata": {
        "id": "BtBPo6DL8z4K",
        "outputId": "7939debe-a5b6-4df6-c549-1820013c17cd",
        "colab": {
          "base_uri": "https://localhost:8080/",
          "height": 52
        }
      },
      "source": [
        "transform_raw = transforms.Compose([transforms.Resize((64,64),interpolation=Image.NEAREST),transforms.ToTensor() ])\n",
        "train_imb = ImageFolder(root='/content/gdrive/My Drive/plant_leaf/dataset_split_raw/train', transform=transform_raw)\n",
        "\n",
        "targets = np.array(train_imb.samples)[:,1]\n",
        "targets = targets.astype(int)\n",
        "\n",
        "class_data_count = np.unique(targets, return_counts=True)[1]\n",
        "print(class_data_count)    #클래스별 이미지 개수\n"
      ],
      "execution_count": null,
      "outputs": [
        {
          "output_type": "stream",
          "text": [
            "[50 71 71 67 63 63 63 54 54 54 58 54 67 58 54 75 75 63 63 63 58 67 58 50\n",
            " 54 54 58 75 63 75 54 58 67]\n"
          ],
          "name": "stdout"
        }
      ]
    },
    {
      "cell_type": "code",
      "metadata": {
        "id": "3TwsnhE05Fml",
        "outputId": "4e83bf9c-4107-401c-bbea-8ff8e3f9b864",
        "colab": {
          "base_uri": "https://localhost:8080/",
          "height": 140
        }
      },
      "source": [
        "weight"
      ],
      "execution_count": null,
      "outputs": [
        {
          "output_type": "execute_result",
          "data": {
            "text/plain": [
              "array([0.02      , 0.01408451, 0.01724138, 0.01851852, 0.01492537,\n",
              "       0.01724138, 0.01851852, 0.01333333, 0.01333333, 0.01587302,\n",
              "       0.01587302, 0.01587302, 0.01408451, 0.01724138, 0.01492537,\n",
              "       0.01724138, 0.02      , 0.01851852, 0.01851852, 0.01724138,\n",
              "       0.01333333, 0.01587302, 0.01333333, 0.01492537, 0.01851852,\n",
              "       0.01724138, 0.01492537, 0.01587302, 0.01587302, 0.01587302,\n",
              "       0.01851852, 0.01851852, 0.01851852])"
            ]
          },
          "metadata": {
            "tags": []
          },
          "execution_count": 22
        }
      ]
    },
    {
      "cell_type": "code",
      "metadata": {
        "id": "MPCjBV8Ts64o"
      },
      "source": [
        "weight = 1. / class_data_count\n",
        "samples_weight = weight[targets]\n",
        "samples_weight = torch.from_numpy(samples_weight)\n",
        "sampler = WeightedRandomSampler(samples_weight, len(samples_weight))"
      ],
      "execution_count": null,
      "outputs": []
    },
    {
      "cell_type": "code",
      "metadata": {
        "id": "ObxmmOkhs7t2"
      },
      "source": [
        "weighted_loader = torch.utils.data.DataLoader(train_imb, batch_size=32, sampler=sampler, num_workers=4)\n",
        "\n",
        "# oversampling에 따라 각 batch에 클래스 분포가 균등\n",
        "for batch_idx, (data, target) in enumerate(weighted_loader):\n",
        "    print('Batch {}, classes {}, count {}'.format(\n",
        "        batch_idx, *np.unique(target.numpy(), return_counts=True)))"
      ],
      "execution_count": null,
      "outputs": []
    },
    {
      "cell_type": "markdown",
      "metadata": {
        "id": "pnmsEtj_VgDP"
      },
      "source": [
        "## **Baseline model**"
      ]
    },
    {
      "cell_type": "markdown",
      "metadata": {
        "id": "XG8FDgaKVq1R"
      },
      "source": [
        "### 1. Baseline with splited raw data (imbalanced)"
      ]
    },
    {
      "cell_type": "code",
      "metadata": {
        "id": "p8odctyblYMk"
      },
      "source": [
        "transform_raw = transforms.Compose([transforms.Resize((64,64),interpolation=Image.NEAREST),transforms.ToTensor() ])  #0~1로 스케일해서 tensor로 저장\n",
        "train_dataset = ImageFolder(root='./plant_leaf/dataset_split_raw/train', transform=transform_raw) \n",
        "val_dataset = ImageFolder(root='./plant_leaf/dataset_split_raw/val', transform=transform_raw) \n",
        "test_dataset = ImageFolder(root='./plant_leaf/dataset_split_raw/test', transform=transform_raw) \n",
        "\n",
        "#batch iterator\n",
        "train_loader = torch.utils.data.DataLoader(train_dataset, batch_size=32, shuffle=True, num_workers=4)\n",
        "val_loader = torch.utils.data.DataLoader(val_dataset, batch_size=32, shuffle=True, num_workers=4)\n",
        "test_loader = torch.utils.data.DataLoader(test_dataset, batch_size=32, shuffle=True, num_workers=4)"
      ],
      "execution_count": null,
      "outputs": []
    },
    {
      "cell_type": "code",
      "metadata": {
        "id": "6QBlg_2UytSg",
        "outputId": "c21cb6d0-a853-400a-e2a0-bcccaa62075f",
        "colab": {
          "base_uri": "https://localhost:8080/",
          "height": 158
        }
      },
      "source": [
        "USE_CUDA = torch.cuda.is_available()\n",
        "DEVICE = torch.device(\"cuda\" if USE_CUDA else \"cpu\")\n",
        "EPOCHS     = 30\n",
        "BATCH_SIZE = 32\n",
        "\n",
        "class Net(nn.Module):  \n",
        "  \n",
        "  def __init__(self):\n",
        "    \n",
        "    super(Net, self).__init__()\n",
        "\n",
        "    self.conv1 = nn.Conv2d(3, 32, 3, padding=1) \n",
        "    self.pool = nn.MaxPool2d(2,2) \n",
        "    self.conv2 = nn.Conv2d(32, 64, 3, padding=1)   \n",
        "    self.conv3 = nn.Conv2d(64, 64, 3, padding=1)\n",
        "\n",
        "    # 전결합층       \n",
        "    self.fc1 = nn.Linear(4096, 512) \n",
        "    self.fc2 = nn.Linear(512, 33)\n",
        "    \n",
        "  def forward(self, x):\n",
        "    \n",
        "    # 풀링층\n",
        "    x=self.conv1(x)   #64*64*32\n",
        "    x=F.relu(x)\n",
        "    x=self.pool(x)    #32*32*32\n",
        "    x = F.dropout(x, p=0.25, training=self.training)\n",
        "\n",
        "    x=self.conv2(x)\n",
        "    x=F.relu(x)\n",
        "    x=self.pool(x)\n",
        "    x = F.dropout(x, p=0.25, training=self.training)\n",
        "\n",
        "    x=self.conv3(x)\n",
        "    x=F.relu(x)\n",
        "    x=self.pool(x)\n",
        "    x = F.dropout(x, p=0.25, training=self.training)\n",
        "\n",
        "    x = x.view(-1, 4096)  \n",
        "    x = self.fc1(x)\n",
        "    x = F.relu(x)\n",
        "    x = F.dropout(x, p=0.5, training=self.training)\n",
        "    x = self.fc2(x)\n",
        "        \n",
        "    return F.log_softmax(x, dim=1)  \n",
        "\n",
        "  \n",
        "model = Net().cuda()  \n",
        "optimizer = optim.Adam(model.parameters(), lr=0.01)\n",
        "print(model)"
      ],
      "execution_count": null,
      "outputs": [
        {
          "output_type": "stream",
          "text": [
            "Net(\n",
            "  (conv1): Conv2d(3, 32, kernel_size=(3, 3), stride=(1, 1), padding=(1, 1))\n",
            "  (pool): MaxPool2d(kernel_size=2, stride=2, padding=0, dilation=1, ceil_mode=False)\n",
            "  (conv2): Conv2d(32, 64, kernel_size=(3, 3), stride=(1, 1), padding=(1, 1))\n",
            "  (conv3): Conv2d(64, 64, kernel_size=(3, 3), stride=(1, 1), padding=(1, 1))\n",
            "  (fc1): Linear(in_features=4096, out_features=512, bias=True)\n",
            "  (fc2): Linear(in_features=512, out_features=33, bias=True)\n",
            ")\n"
          ],
          "name": "stdout"
        }
      ]
    },
    {
      "cell_type": "code",
      "metadata": {
        "id": "rgn-6DFsnmig"
      },
      "source": [
        "loss_hist=[]\n",
        "acc_hist=[]\n",
        "def train(model, train_loader, optimizer, epoch):\n",
        "    model.train()\n",
        "    for batch_idx, (data, target) in enumerate(train_loader):\n",
        "        data, target = data.to(DEVICE), target.to(DEVICE)\n",
        "        optimizer.zero_grad()\n",
        "        output = model(data)\n",
        "        #print(\"output size:  \", output.size())\n",
        "        loss = F.cross_entropy(output, target)\n",
        "        loss.backward()\n",
        "        optimizer.step()\n",
        "        loss_hist.append(loss)\n",
        "        if batch_idx % 200 == 0:\n",
        "            print('Train Epoch: {} [{}/{} ({:.0f}%)]\\tLoss: {:.6f}'.format(\n",
        "                epoch, batch_idx * len(data), len(train_loader.dataset),\n",
        "                100. * batch_idx / len(train_loader), loss.item()))"
      ],
      "execution_count": null,
      "outputs": []
    },
    {
      "cell_type": "code",
      "metadata": {
        "id": "UJiiZMwznn_B"
      },
      "source": [
        "def evaluate(model, test_loader):\n",
        "    model.eval()\n",
        "    test_loss = 0\n",
        "    correct = 0\n",
        "    \n",
        "    with torch.no_grad():\n",
        "        for data, target in test_loader:\n",
        "            data, target = data.to(DEVICE), target.to(DEVICE)\n",
        "            #print(\"target shape:  \", target.shape)\n",
        "            output = model(data)\n",
        "            \n",
        "            # 배치 오차를 합산\n",
        "            test_loss += F.cross_entropy(output, target, reduction='sum').item()\n",
        "\n",
        "            # 가장 높은 값을 가진 인덱스가 예측값\n",
        "            pred = output.max(1, keepdim=True)[1]\n",
        "            correct += pred.eq(target.view_as(pred)).sum().item()\n",
        "\n",
        "    test_loss /= len(test_loader.dataset)\n",
        "    test_accuracy = 100. * correct / len(test_loader.dataset)\n",
        "    return test_loss, test_accuracy"
      ],
      "execution_count": null,
      "outputs": []
    },
    {
      "cell_type": "code",
      "metadata": {
        "id": "MLMMZRZRnszv",
        "outputId": "9f398e48-3209-4f3f-84ac-508930097188",
        "colab": {
          "base_uri": "https://localhost:8080/",
          "height": 1000
        }
      },
      "source": [
        "#학습시키는 코드\n",
        "\n",
        "val_acc_hist=[]\n",
        "val_loss_hist=[]\n",
        "train_acc_hist=[]\n",
        "train_loss_hist=[]\n",
        "for epoch in range(1, EPOCHS + 1):\n",
        "    train(model_imb, train_loader, optimizer, epoch)\n",
        "    val_loss, val_accuracy = evaluate(model, val_loader)\n",
        "    train_loss, train_accuracy = evaluate(model, train_loader)\n",
        "    val_loss_hist.append(val_loss)\n",
        "    val_acc_hist.append(val_accuracy)\n",
        "    train_loss_hist.append(train_loss)\n",
        "    train_acc_hist.append(train_accuracy)\n",
        "    print('[{}] Validation Loss: {:.4f}, Accuracy: {:.2f}%'.format(epoch, val_loss, val_accuracy))"
      ],
      "execution_count": null,
      "outputs": [
        {
          "output_type": "stream",
          "text": [
            "Train Epoch: 1 [0/2031 (0%)]\tLoss: 3.506862\n",
            "[1] Test Loss: 3.4197, Accuracy: 6.41%\n",
            "Train Epoch: 2 [0/2031 (0%)]\tLoss: 3.476799\n",
            "[2] Test Loss: 3.4169, Accuracy: 6.11%\n",
            "Train Epoch: 3 [0/2031 (0%)]\tLoss: 3.488903\n",
            "[3] Test Loss: 3.3874, Accuracy: 9.84%\n",
            "Train Epoch: 4 [0/2031 (0%)]\tLoss: 3.409873\n",
            "[4] Test Loss: 3.3754, Accuracy: 7.30%\n",
            "Train Epoch: 5 [0/2031 (0%)]\tLoss: 3.294499\n",
            "[5] Test Loss: 3.1906, Accuracy: 11.92%\n",
            "Train Epoch: 6 [0/2031 (0%)]\tLoss: 3.383922\n",
            "[6] Test Loss: 3.1251, Accuracy: 13.11%\n",
            "Train Epoch: 7 [0/2031 (0%)]\tLoss: 2.990563\n",
            "[7] Test Loss: 3.0149, Accuracy: 15.50%\n",
            "Train Epoch: 8 [0/2031 (0%)]\tLoss: 2.850621\n",
            "[8] Test Loss: 2.9469, Accuracy: 16.39%\n",
            "Train Epoch: 9 [0/2031 (0%)]\tLoss: 3.273118\n",
            "[9] Test Loss: 3.1255, Accuracy: 11.48%\n",
            "Train Epoch: 10 [0/2031 (0%)]\tLoss: 2.829699\n",
            "[10] Test Loss: 2.7403, Accuracy: 22.35%\n",
            "Train Epoch: 11 [0/2031 (0%)]\tLoss: 2.678026\n",
            "[11] Test Loss: 2.6805, Accuracy: 25.63%\n",
            "Train Epoch: 12 [0/2031 (0%)]\tLoss: 2.561987\n",
            "[12] Test Loss: 2.7629, Accuracy: 21.16%\n",
            "Train Epoch: 13 [0/2031 (0%)]\tLoss: 2.652677\n",
            "[13] Test Loss: 2.6142, Accuracy: 24.29%\n",
            "Train Epoch: 14 [0/2031 (0%)]\tLoss: 2.595823\n",
            "[14] Test Loss: 2.4247, Accuracy: 32.19%\n",
            "Train Epoch: 15 [0/2031 (0%)]\tLoss: 2.668021\n",
            "[15] Test Loss: 2.6088, Accuracy: 23.70%\n",
            "Train Epoch: 16 [0/2031 (0%)]\tLoss: 2.260640\n",
            "[16] Test Loss: 2.9438, Accuracy: 14.75%\n",
            "Train Epoch: 17 [0/2031 (0%)]\tLoss: 2.638354\n",
            "[17] Test Loss: 2.4745, Accuracy: 28.46%\n",
            "Train Epoch: 18 [0/2031 (0%)]\tLoss: 2.542783\n",
            "[18] Test Loss: 2.5876, Accuracy: 21.61%\n",
            "Train Epoch: 19 [0/2031 (0%)]\tLoss: 2.342002\n",
            "[19] Test Loss: 2.5240, Accuracy: 28.17%\n",
            "Train Epoch: 20 [0/2031 (0%)]\tLoss: 2.276968\n",
            "[20] Test Loss: 2.5350, Accuracy: 24.59%\n",
            "Train Epoch: 21 [0/2031 (0%)]\tLoss: 2.259552\n",
            "[21] Test Loss: 2.5586, Accuracy: 24.14%\n",
            "Train Epoch: 22 [0/2031 (0%)]\tLoss: 2.461549\n",
            "[22] Test Loss: 2.5010, Accuracy: 27.57%\n",
            "Train Epoch: 23 [0/2031 (0%)]\tLoss: 2.176064\n",
            "[23] Test Loss: 2.6751, Accuracy: 20.27%\n",
            "Train Epoch: 24 [0/2031 (0%)]\tLoss: 2.234798\n",
            "[24] Test Loss: 2.4546, Accuracy: 26.08%\n",
            "Train Epoch: 25 [0/2031 (0%)]\tLoss: 2.289999\n",
            "[25] Test Loss: 2.2265, Accuracy: 35.17%\n",
            "Train Epoch: 26 [0/2031 (0%)]\tLoss: 2.368501\n",
            "[26] Test Loss: 2.3818, Accuracy: 32.34%\n",
            "Train Epoch: 27 [0/2031 (0%)]\tLoss: 2.200773\n",
            "[27] Test Loss: 2.5219, Accuracy: 23.55%\n",
            "Train Epoch: 28 [0/2031 (0%)]\tLoss: 2.179062\n",
            "[28] Test Loss: 2.6220, Accuracy: 19.67%\n",
            "Train Epoch: 29 [0/2031 (0%)]\tLoss: 2.265864\n",
            "[29] Test Loss: 2.3519, Accuracy: 30.40%\n",
            "Train Epoch: 30 [0/2031 (0%)]\tLoss: 1.957009\n",
            "[30] Test Loss: 2.4464, Accuracy: 27.27%\n"
          ],
          "name": "stdout"
        }
      ]
    },
    {
      "cell_type": "code",
      "metadata": {
        "id": "pc1L39ziLIk0"
      },
      "source": [
        "torch.save(model_imb,'imbalanced_baseline.pt')"
      ],
      "execution_count": null,
      "outputs": []
    },
    {
      "cell_type": "markdown",
      "metadata": {
        "id": "Sj9gwf_FV1XJ"
      },
      "source": [
        "### 2. Baseline with balanced data"
      ]
    },
    {
      "cell_type": "markdown",
      "metadata": {
        "id": "BCQyeIUs--3x"
      },
      "source": [
        "Q. validation에는 oversample 안하는게 맞는거지..?"
      ]
    },
    {
      "cell_type": "code",
      "metadata": {
        "id": "IwytByai-96K"
      },
      "source": [
        "# imbalanced raw랑 옵션 똑같게 할거면 이부분 삭제 가능\n",
        "val_loader = torch.utils.data.DataLoader(val_dataset, batch_size=32, shuffle=True, num_workers=4)  \n",
        "test_loader = torch.utils.data.DataLoader(test_dataset, batch_size=32,shuffle=True, num_workers=4)\n",
        "model_bal = Net().cuda()"
      ],
      "execution_count": null,
      "outputs": []
    },
    {
      "cell_type": "code",
      "metadata": {
        "id": "JusLBGwXAcaO",
        "outputId": "c31d2ef9-4f5d-47d9-e288-63dd801ee68d",
        "colab": {
          "base_uri": "https://localhost:8080/",
          "height": 1000
        }
      },
      "source": [
        "#학습시키는 코드\n",
        "val_acc_hist=[]\n",
        "val_loss_hist=[]\n",
        "train_acc_hist=[]\n",
        "train_loss_hist=[]\n",
        "for epoch in range(1, EPOCHS + 1):\n",
        "    train(model_bal, weighted_loader, optimizer, epoch)\n",
        "    val_loss, val_accuracy = evaluate(model, val_loader)\n",
        "    train_loss, train_accuracy = evaluate(model, train_loader)\n",
        "    val_loss_hist.append(val_loss)\n",
        "    val_acc_hist.append(val_accuracy)\n",
        "    train_loss_hist.append(train_loss)\n",
        "    train_acc_hist.append(train_accuracy)\n",
        "    print('[{}] Validation Loss: {:.4f}, Accuracy: {:.2f}%'.format(epoch, val_loss, val_accuracy))"
      ],
      "execution_count": null,
      "outputs": [
        {
          "output_type": "stream",
          "text": [
            "Train Epoch: 1 [0/2031 (0%)]\tLoss: 3.501228\n",
            "[1] Validation Loss: 3.4505, Accuracy: 7.30%\n",
            "Train Epoch: 2 [0/2031 (0%)]\tLoss: 3.459445\n",
            "[2] Validation Loss: 3.0629, Accuracy: 16.69%\n",
            "Train Epoch: 3 [0/2031 (0%)]\tLoss: 3.044279\n",
            "[3] Validation Loss: 2.6951, Accuracy: 25.48%\n",
            "Train Epoch: 4 [0/2031 (0%)]\tLoss: 2.605921\n",
            "[4] Validation Loss: 2.1854, Accuracy: 36.96%\n",
            "Train Epoch: 5 [0/2031 (0%)]\tLoss: 2.086921\n",
            "[5] Validation Loss: 1.8693, Accuracy: 45.01%\n",
            "Train Epoch: 6 [0/2031 (0%)]\tLoss: 2.084229\n",
            "[6] Validation Loss: 1.7540, Accuracy: 46.94%\n",
            "Train Epoch: 7 [0/2031 (0%)]\tLoss: 1.326419\n",
            "[7] Validation Loss: 1.5444, Accuracy: 54.25%\n",
            "Train Epoch: 8 [0/2031 (0%)]\tLoss: 1.318707\n",
            "[8] Validation Loss: 1.4163, Accuracy: 58.27%\n",
            "Train Epoch: 9 [0/2031 (0%)]\tLoss: 1.131460\n",
            "[9] Validation Loss: 1.3633, Accuracy: 58.57%\n",
            "Train Epoch: 10 [0/2031 (0%)]\tLoss: 0.919869\n",
            "[10] Validation Loss: 1.3080, Accuracy: 61.40%\n",
            "Train Epoch: 11 [0/2031 (0%)]\tLoss: 1.263304\n",
            "[11] Validation Loss: 1.3128, Accuracy: 62.00%\n",
            "Train Epoch: 12 [0/2031 (0%)]\tLoss: 0.816689\n",
            "[12] Validation Loss: 1.3437, Accuracy: 60.51%\n",
            "Train Epoch: 13 [0/2031 (0%)]\tLoss: 1.239960\n",
            "[13] Validation Loss: 1.1789, Accuracy: 64.83%\n",
            "Train Epoch: 14 [0/2031 (0%)]\tLoss: 0.843726\n",
            "[14] Validation Loss: 1.1937, Accuracy: 65.42%\n",
            "Train Epoch: 15 [0/2031 (0%)]\tLoss: 0.586304\n",
            "[15] Validation Loss: 1.1327, Accuracy: 66.17%\n",
            "Train Epoch: 16 [0/2031 (0%)]\tLoss: 0.473397\n",
            "[16] Validation Loss: 1.1083, Accuracy: 67.06%\n",
            "Train Epoch: 17 [0/2031 (0%)]\tLoss: 0.486126\n",
            "[17] Validation Loss: 1.3744, Accuracy: 59.76%\n",
            "Train Epoch: 18 [0/2031 (0%)]\tLoss: 1.144037\n",
            "[18] Validation Loss: 1.2209, Accuracy: 66.47%\n",
            "Train Epoch: 19 [0/2031 (0%)]\tLoss: 0.774272\n",
            "[19] Validation Loss: 1.1767, Accuracy: 66.47%\n",
            "Train Epoch: 20 [0/2031 (0%)]\tLoss: 0.405366\n",
            "[20] Validation Loss: 1.2507, Accuracy: 64.83%\n",
            "Train Epoch: 21 [0/2031 (0%)]\tLoss: 0.444990\n",
            "[21] Validation Loss: 1.1276, Accuracy: 68.85%\n",
            "Train Epoch: 22 [0/2031 (0%)]\tLoss: 0.398744\n",
            "[22] Validation Loss: 1.2130, Accuracy: 67.81%\n",
            "Train Epoch: 23 [0/2031 (0%)]\tLoss: 0.535460\n",
            "[23] Validation Loss: 1.2240, Accuracy: 68.11%\n",
            "Train Epoch: 24 [0/2031 (0%)]\tLoss: 0.794502\n",
            "[24] Validation Loss: 1.2008, Accuracy: 68.26%\n",
            "Train Epoch: 25 [0/2031 (0%)]\tLoss: 0.572200\n",
            "[25] Validation Loss: 1.1485, Accuracy: 69.60%\n",
            "Train Epoch: 26 [0/2031 (0%)]\tLoss: 0.481895\n",
            "[26] Validation Loss: 1.3296, Accuracy: 66.92%\n",
            "Train Epoch: 27 [0/2031 (0%)]\tLoss: 0.406568\n",
            "[27] Validation Loss: 1.1634, Accuracy: 68.11%\n",
            "Train Epoch: 28 [0/2031 (0%)]\tLoss: 0.572927\n",
            "[28] Validation Loss: 1.2778, Accuracy: 66.62%\n",
            "Train Epoch: 29 [0/2031 (0%)]\tLoss: 0.267145\n",
            "[29] Validation Loss: 1.2518, Accuracy: 67.36%\n",
            "Train Epoch: 30 [0/2031 (0%)]\tLoss: 0.329989\n",
            "[30] Validation Loss: 1.2116, Accuracy: 70.04%\n"
          ],
          "name": "stdout"
        }
      ]
    },
    {
      "cell_type": "code",
      "metadata": {
        "id": "Jang_wFoACM8"
      },
      "source": [
        "torch.save(model_bal,'balanced_baseline.pt')"
      ],
      "execution_count": null,
      "outputs": []
    },
    {
      "cell_type": "markdown",
      "metadata": {
        "id": "xSItnEJzWIK8"
      },
      "source": [
        "##**Pre-trained model 사용** (ResNet50)"
      ]
    },
    {
      "cell_type": "code",
      "metadata": {
        "id": "vHASChldOKLh"
      },
      "source": [
        "data_transforms = {\n",
        "    'train': transforms.Compose([\n",
        "        transforms.Resize(64),\n",
        "        transforms.RandomHorizontalFlip(),\n",
        "        transforms.RandomVerticalFlip(),\n",
        "        transforms.CenterCrop(52),\n",
        "        transforms.ToTensor(),\n",
        "        transforms.Normalize([0.485, 0.456, 0.406], [0.229, 0.224, 0.225])  #resnet 특성인듯\n",
        "    ]),\n",
        "    'val': transforms.Compose([\n",
        "        transforms.Resize(64),  \n",
        "        transforms.CenterCrop(52),  #crop은 validation에 왜하는거지..? ()\n",
        "        transforms.ToTensor(),\n",
        "        transforms.Normalize([0.485, 0.456, 0.406], [0.229, 0.224, 0.225])\n",
        "    ])\n",
        "}\n",
        "\n",
        "data_dir = '/content/gdrive/My Drive/plant_leaf/dataset_split_raw'\n",
        "image_datasets = {x: ImageFolder(os.path.join(data_dir, x),data_transforms[x]) for x in ['train', 'val']}\n",
        "dataloaders = {x: torch.utils.data.DataLoader(image_datasets[x], batch_size=4,shuffle=True, num_workers=4)\n",
        "              for x in ['train', 'val']}\n",
        "dataset_sizes = {x: len(image_datasets[x]) for x in ['train', 'val']}\n",
        "class_names = image_datasets['train'].classes\n",
        "\n",
        "device = torch.device(\"cuda:0\" if torch.cuda.is_available() else \"cpu\")"
      ],
      "execution_count": null,
      "outputs": []
    },
    {
      "cell_type": "code",
      "metadata": {
        "id": "P9dC_53M2unZ",
        "outputId": "dc282dff-1c96-4caa-ac28-d2959d2d1d1c",
        "colab": {
          "base_uri": "https://localhost:8080/",
          "height": 150
        }
      },
      "source": [
        "def imshow(inp, title=None):\n",
        "    \"\"\"Imshow for Tensor.\"\"\"\n",
        "    inp = inp.numpy().transpose((1, 2, 0))\n",
        "    mean = np.array([0.485, 0.456, 0.406])\n",
        "    std = np.array([0.229, 0.224, 0.225])\n",
        "    inp = std * inp + mean\n",
        "    inp = np.clip(inp, 0, 1)\n",
        "    plt.imshow(inp)\n",
        "    if title is not None:\n",
        "        plt.title(title)\n",
        "    plt.pause(0.001)  # pause a bit so that plots are updated\n",
        "\n",
        "\n",
        "# Get a batch of training data\n",
        "inputs, classes = next(iter(dataloaders['train']))\n",
        "\n",
        "# Make a grid from batch\n",
        "out = torchvision.utils.make_grid(inputs)\n",
        "\n",
        "imshow(out, title=[class_names[x] for x in classes])"
      ],
      "execution_count": null,
      "outputs": [
        {
          "output_type": "display_data",
          "data": {
            "image/png": "[encoded data removed]",
            "text/plain": [
              "<Figure size 432x288 with 1 Axes>"
            ]
          },
          "metadata": {
            "tags": [],
            "needs_background": "light"
          }
        }
      ]
    },
    {
      "cell_type": "markdown",
      "metadata": {
        "id": "O6U0bhSG21tF"
      },
      "source": [
        "* augmentation이 잘 된것을 확인할 수 있음"
      ]
    },
    {
      "cell_type": "markdown",
      "metadata": {
        "id": "vgZBZZjZTMxa"
      },
      "source": [
        "레이어 반정도만 Freeze"
      ]
    },
    {
      "cell_type": "code",
      "metadata": {
        "id": "BXisgZ0eD6AE"
      },
      "source": [
        "resnet = models.resnet50(pretrained=True).cuda()\n",
        "num_ftrs = resnet.fc.in_features  #fully connected에 입력되는 수\n",
        "\n",
        "#맨 마지막 레이어 바꿔버리기\n",
        "resnet.fc = nn.Linear(num_ftrs, 33)  \n",
        "resnet = resnet.to(device)\n",
        "\n",
        "criterion = nn.CrossEntropyLoss() \n",
        "\n",
        "optimizer_ft = optim.Adam(filter(lambda p: p.requires_grad, resnet.parameters()), lr=0.001)\n",
        "\n",
        "# 7 에폭마다 0.1씩 학습율 감소  => 에폭에 따라 adaptive하게\n",
        "exp_lr_scheduler = lr_scheduler.StepLR(optimizer_ft, step_size=7, gamma=0.1)"
      ],
      "execution_count": null,
      "outputs": []
    },
    {
      "cell_type": "code",
      "metadata": {
        "id": "7iwL11fY9kNA"
      },
      "source": [
        "ct = 0\n",
        "for child in resnet.children():  \n",
        "  ct+= 1   #ct번째 레이어\n",
        "  if ct < 6:  #freeze layer1-3  out of 10\n",
        "      for param in child.parameters():\n",
        "          param.requires_grad = False"
      ],
      "execution_count": null,
      "outputs": []
    },
    {
      "cell_type": "code",
      "metadata": {
        "id": "gpy1L0fA9175"
      },
      "source": [
        "#모델 출력해보기\n",
        "list(resnet.modules()) # to inspect the modules of your model\n",
        "my_model = nn.Sequential(*list(resnet.modules())[:-1]) # strips off last linear layer\n",
        "print(my_model)"
      ],
      "execution_count": null,
      "outputs": []
    },
    {
      "cell_type": "code",
      "metadata": {
        "id": "zadS-oy8GjQL",
        "outputId": "48c01293-fae9-4a30-e58f-903bdb9254fe",
        "colab": {
          "base_uri": "https://localhost:8080/",
          "height": 1000
        }
      },
      "source": [
        "i=0\n",
        "for param in resnet.parameters():\n",
        "    print(i, param.requires_grad)\n",
        "    i+=1"
      ],
      "execution_count": null,
      "outputs": [
        {
          "output_type": "stream",
          "text": [
            "0 False\n",
            "1 False\n",
            "2 False\n",
            "3 False\n",
            "4 False\n",
            "5 False\n",
            "6 False\n",
            "7 False\n",
            "8 False\n",
            "9 False\n",
            "10 False\n",
            "11 False\n",
            "12 False\n",
            "13 False\n",
            "14 False\n",
            "15 False\n",
            "16 False\n",
            "17 False\n",
            "18 False\n",
            "19 False\n",
            "20 False\n",
            "21 False\n",
            "22 False\n",
            "23 False\n",
            "24 False\n",
            "25 False\n",
            "26 False\n",
            "27 False\n",
            "28 False\n",
            "29 False\n",
            "30 False\n",
            "31 False\n",
            "32 False\n",
            "33 True\n",
            "34 True\n",
            "35 True\n",
            "36 True\n",
            "37 True\n",
            "38 True\n",
            "39 True\n",
            "40 True\n",
            "41 True\n",
            "42 True\n",
            "43 True\n",
            "44 True\n",
            "45 True\n",
            "46 True\n",
            "47 True\n",
            "48 True\n",
            "49 True\n",
            "50 True\n",
            "51 True\n",
            "52 True\n",
            "53 True\n",
            "54 True\n",
            "55 True\n",
            "56 True\n",
            "57 True\n",
            "58 True\n",
            "59 True\n",
            "60 True\n",
            "61 True\n",
            "62 True\n",
            "63 True\n",
            "64 True\n",
            "65 True\n",
            "66 True\n",
            "67 True\n",
            "68 True\n",
            "69 True\n",
            "70 True\n",
            "71 True\n",
            "72 True\n",
            "73 True\n",
            "74 True\n",
            "75 True\n",
            "76 True\n",
            "77 True\n",
            "78 True\n",
            "79 True\n",
            "80 True\n",
            "81 True\n",
            "82 True\n",
            "83 True\n",
            "84 True\n",
            "85 True\n",
            "86 True\n",
            "87 True\n",
            "88 True\n",
            "89 True\n",
            "90 True\n",
            "91 True\n",
            "92 True\n",
            "93 True\n",
            "94 True\n",
            "95 True\n",
            "96 True\n",
            "97 True\n",
            "98 True\n",
            "99 True\n",
            "100 True\n",
            "101 True\n",
            "102 True\n",
            "103 True\n",
            "104 True\n",
            "105 True\n",
            "106 True\n",
            "107 True\n",
            "108 True\n",
            "109 True\n",
            "110 True\n",
            "111 True\n",
            "112 True\n",
            "113 True\n",
            "114 True\n",
            "115 True\n",
            "116 True\n",
            "117 True\n",
            "118 True\n",
            "119 True\n",
            "120 True\n",
            "121 True\n",
            "122 True\n",
            "123 True\n",
            "124 True\n",
            "125 True\n",
            "126 True\n",
            "127 True\n",
            "128 True\n",
            "129 True\n",
            "130 True\n",
            "131 True\n",
            "132 True\n",
            "133 True\n",
            "134 True\n",
            "135 True\n",
            "136 True\n",
            "137 True\n",
            "138 True\n",
            "139 True\n",
            "140 True\n",
            "141 True\n",
            "142 True\n",
            "143 True\n",
            "144 True\n",
            "145 True\n",
            "146 True\n",
            "147 True\n",
            "148 True\n",
            "149 True\n",
            "150 True\n",
            "151 True\n",
            "152 True\n",
            "153 True\n",
            "154 True\n",
            "155 True\n",
            "156 True\n",
            "157 True\n",
            "158 True\n",
            "159 True\n",
            "160 True\n"
          ],
          "name": "stdout"
        }
      ]
    },
    {
      "cell_type": "code",
      "metadata": {
        "id": "88SRc9rbSOgV"
      },
      "source": [
        "def train_model(model, criterion, optimizer, scheduler, num_epochs=25):\n",
        "    since = time.time()\n",
        "\n",
        "    best_model_wts = copy.deepcopy(model.state_dict())  \n",
        "    best_acc = 0.0\n",
        "\n",
        "    for epoch in range(num_epochs):\n",
        "        print('Epoch {}/{}'.format(epoch, num_epochs - 1))\n",
        "        print('-' * 10)\n",
        "\n",
        "        # 각 에폭(epoch)은 학습 단계와 검증 단계를 갖습니다.\n",
        "        for phase in ['train', 'val']:\n",
        "            if phase == 'train':\n",
        "                model.train()  # train phase에서는 모델을 학습 모드로 설정\n",
        "            else:\n",
        "                model.eval()   # val phase에서는 모델을 평가 모드로 설정\n",
        "\n",
        "            running_loss = 0.0\n",
        "            running_corrects = 0\n",
        "\n",
        "            # 데이터를 반복\n",
        "            for inputs, labels in dataloaders[phase]:  \n",
        "                inputs = inputs.to(device)\n",
        "                labels = labels.to(device)\n",
        "\n",
        "                # 매개변수 경사도를 0으로 설정\n",
        "                optimizer.zero_grad()\n",
        "\n",
        "                # 순전파\n",
        "                # train phase에서만 연산 기록을 추적\n",
        "                with torch.set_grad_enabled(phase == 'train'):\n",
        "                    outputs = model(inputs)\n",
        "                    _, preds = torch.max(outputs, 1)\n",
        "                    loss = criterion(outputs, labels)\n",
        "\n",
        "                    # 학습 단계인 경우 역전파 + 최적화\n",
        "                    if phase == 'train':\n",
        "                        loss.backward()\n",
        "                        optimizer.step()\n",
        "\n",
        "                # 통계\n",
        "                running_loss += loss.item() * inputs.size(0)\n",
        "                running_corrects += torch.sum(preds == labels.data)\n",
        "            if phase == 'train':\n",
        "                scheduler.step()\n",
        "\n",
        "            epoch_loss = running_loss / dataset_sizes[phase]\n",
        "            epoch_acc = running_corrects.double() / dataset_sizes[phase]  \n",
        "\n",
        "            print('{} Loss: {:.4f} Acc: {:.4f}'.format(phase, epoch_loss, epoch_acc))\n",
        "\n",
        "            # val 단계에서 acc가 더 모델을 깊은 복사(deep copy)함\n",
        "            if phase == 'val' and epoch_acc > best_acc:\n",
        "                best_acc = epoch_acc\n",
        "                best_model_wts = copy.deepcopy(model.state_dict())\n",
        "\n",
        "        print()\n",
        "\n",
        "    time_elapsed = time.time() - since\n",
        "    print('Training complete in {:.0f}m {:.0f}s'.format(\n",
        "        time_elapsed // 60, time_elapsed % 60))\n",
        "    print('Best val Acc: {:4f}'.format(best_acc))\n",
        "\n",
        "    # 가장 나은 모델 가중치를 불러옴\n",
        "    model.load_state_dict(best_model_wts)\n",
        "    return model"
      ],
      "execution_count": null,
      "outputs": []
    },
    {
      "cell_type": "code",
      "metadata": {
        "id": "6Gdy9LIfVIsV",
        "outputId": "e9e96bd9-eead-4d1b-8857-ec9e07ec992e",
        "colab": {
          "base_uri": "https://localhost:8080/",
          "height": 1000
        }
      },
      "source": [
        "model_resnet50 = train_model(resnet, criterion, optimizer_ft, exp_lr_scheduler,num_epochs=30) "
      ],
      "execution_count": null,
      "outputs": [
        {
          "output_type": "stream",
          "text": [
            "Epoch 0/29\n",
            "----------\n",
            "train Loss: 3.5821 Acc: 0.0172\n",
            "val Loss: 3.7180 Acc: 0.0283\n",
            "\n",
            "Epoch 1/29\n",
            "----------\n",
            "train Loss: 3.5772 Acc: 0.0217\n",
            "val Loss: 3.8063 Acc: 0.0417\n",
            "\n",
            "Epoch 2/29\n",
            "----------\n",
            "train Loss: 3.5767 Acc: 0.0167\n",
            "val Loss: 3.6945 Acc: 0.0268\n",
            "\n",
            "Epoch 3/29\n",
            "----------\n",
            "train Loss: 3.5783 Acc: 0.0192\n",
            "val Loss: 3.7367 Acc: 0.0283\n",
            "\n",
            "Epoch 4/29\n",
            "----------\n",
            "train Loss: 3.5819 Acc: 0.0167\n",
            "val Loss: 3.7248 Acc: 0.0283\n",
            "\n",
            "Epoch 5/29\n",
            "----------\n",
            "train Loss: 3.5785 Acc: 0.0197\n",
            "val Loss: 3.8340 Acc: 0.0328\n",
            "\n",
            "Epoch 6/29\n",
            "----------\n",
            "train Loss: 3.5790 Acc: 0.0192\n",
            "val Loss: 3.6409 Acc: 0.0283\n",
            "\n",
            "Epoch 7/29\n",
            "----------\n",
            "train Loss: 3.5754 Acc: 0.0182\n",
            "val Loss: 3.7408 Acc: 0.0238\n",
            "\n",
            "Epoch 8/29\n",
            "----------\n",
            "train Loss: 3.5785 Acc: 0.0172\n",
            "val Loss: 3.7596 Acc: 0.0283\n",
            "\n",
            "Epoch 9/29\n",
            "----------\n",
            "train Loss: 3.5822 Acc: 0.0192\n",
            "val Loss: 3.7481 Acc: 0.0283\n",
            "\n",
            "Epoch 10/29\n",
            "----------\n",
            "train Loss: 3.5771 Acc: 0.0226\n",
            "val Loss: 3.7961 Acc: 0.0387\n",
            "\n",
            "Epoch 11/29\n",
            "----------\n",
            "train Loss: 3.5766 Acc: 0.0192\n",
            "val Loss: 3.8158 Acc: 0.0283\n",
            "\n",
            "Epoch 12/29\n",
            "----------\n",
            "train Loss: 3.5759 Acc: 0.0222\n",
            "val Loss: 3.6892 Acc: 0.0253\n",
            "\n",
            "Epoch 13/29\n",
            "----------\n",
            "train Loss: 3.5853 Acc: 0.0192\n",
            "val Loss: 3.7238 Acc: 0.0283\n",
            "\n",
            "Epoch 14/29\n",
            "----------\n",
            "train Loss: 3.5794 Acc: 0.0202\n",
            "val Loss: 3.6751 Acc: 0.0283\n",
            "\n",
            "Epoch 15/29\n",
            "----------\n",
            "train Loss: 3.5779 Acc: 0.0207\n",
            "val Loss: 3.7728 Acc: 0.0283\n",
            "\n",
            "Epoch 16/29\n",
            "----------\n",
            "train Loss: 3.5787 Acc: 0.0231\n",
            "val Loss: 3.6920 Acc: 0.0343\n",
            "\n",
            "Epoch 17/29\n",
            "----------\n",
            "train Loss: 3.5773 Acc: 0.0192\n",
            "val Loss: 3.6738 Acc: 0.0283\n",
            "\n",
            "Epoch 18/29\n",
            "----------\n",
            "train Loss: 3.5812 Acc: 0.0172\n",
            "val Loss: 3.7214 Acc: 0.0283\n",
            "\n",
            "Epoch 19/29\n",
            "----------\n",
            "train Loss: 3.5813 Acc: 0.0167\n",
            "val Loss: 3.6922 Acc: 0.0283\n",
            "\n",
            "Epoch 20/29\n",
            "----------\n",
            "train Loss: 3.5851 Acc: 0.0172\n",
            "val Loss: 3.7022 Acc: 0.0283\n",
            "\n",
            "Epoch 21/29\n",
            "----------\n",
            "train Loss: 3.5694 Acc: 0.0207\n",
            "val Loss: 3.7643 Acc: 0.0283\n",
            "\n",
            "Epoch 22/29\n",
            "----------\n",
            "train Loss: 3.5806 Acc: 0.0167\n",
            "val Loss: 3.7921 Acc: 0.0283\n",
            "\n",
            "Epoch 23/29\n",
            "----------\n"
          ],
          "name": "stdout"
        },
        {
          "output_type": "error",
          "ename": "KeyboardInterrupt",
          "evalue": "ignored",
          "traceback": [
            "\u001b[0;31m---------------------------------------------------------------------------\u001b[0m",
            "\u001b[0;31mKeyboardInterrupt\u001b[0m                         Traceback (most recent call last)",
            "\u001b[0;32m<ipython-input-75-a1f882ce237a>\u001b[0m in \u001b[0;36m<module>\u001b[0;34m()\u001b[0m\n\u001b[0;32m----> 1\u001b[0;31m \u001b[0mmodel_ft\u001b[0m \u001b[0;34m=\u001b[0m \u001b[0mtrain_model\u001b[0m\u001b[0;34m(\u001b[0m\u001b[0mmodel_ft\u001b[0m\u001b[0;34m,\u001b[0m \u001b[0mcriterion\u001b[0m\u001b[0;34m,\u001b[0m \u001b[0moptimizer_ft\u001b[0m\u001b[0;34m,\u001b[0m \u001b[0mexp_lr_scheduler\u001b[0m\u001b[0;34m,\u001b[0m\u001b[0mnum_epochs\u001b[0m\u001b[0;34m=\u001b[0m\u001b[0;36m30\u001b[0m\u001b[0;34m)\u001b[0m\u001b[0;34m\u001b[0m\u001b[0;34m\u001b[0m\u001b[0m\n\u001b[0m",
            "\u001b[0;32m<ipython-input-73-4ff992af9866>\u001b[0m in \u001b[0;36mtrain_model\u001b[0;34m(model, criterion, optimizer, scheduler, num_epochs)\u001b[0m\n\u001b[1;32m     22\u001b[0m             \u001b[0;32mfor\u001b[0m \u001b[0minputs\u001b[0m\u001b[0;34m,\u001b[0m \u001b[0mlabels\u001b[0m \u001b[0;32min\u001b[0m \u001b[0mdataloaders\u001b[0m\u001b[0;34m[\u001b[0m\u001b[0mphase\u001b[0m\u001b[0;34m]\u001b[0m\u001b[0;34m:\u001b[0m  \u001b[0;31m#여기서 자동으로 train, val data 들어감\u001b[0m\u001b[0;34m\u001b[0m\u001b[0;34m\u001b[0m\u001b[0m\n\u001b[1;32m     23\u001b[0m                 \u001b[0minputs\u001b[0m \u001b[0;34m=\u001b[0m \u001b[0minputs\u001b[0m\u001b[0;34m.\u001b[0m\u001b[0mto\u001b[0m\u001b[0;34m(\u001b[0m\u001b[0mdevice\u001b[0m\u001b[0;34m)\u001b[0m\u001b[0;34m\u001b[0m\u001b[0;34m\u001b[0m\u001b[0m\n\u001b[0;32m---> 24\u001b[0;31m                 \u001b[0mlabels\u001b[0m \u001b[0;34m=\u001b[0m \u001b[0mlabels\u001b[0m\u001b[0;34m.\u001b[0m\u001b[0mto\u001b[0m\u001b[0;34m(\u001b[0m\u001b[0mdevice\u001b[0m\u001b[0;34m)\u001b[0m\u001b[0;34m\u001b[0m\u001b[0;34m\u001b[0m\u001b[0m\n\u001b[0m\u001b[1;32m     25\u001b[0m \u001b[0;34m\u001b[0m\u001b[0m\n\u001b[1;32m     26\u001b[0m                 \u001b[0;31m# 매개변수 경사도를 0으로 설정\u001b[0m\u001b[0;34m\u001b[0m\u001b[0;34m\u001b[0m\u001b[0;34m\u001b[0m\u001b[0m\n",
            "\u001b[0;31mKeyboardInterrupt\u001b[0m: "
          ]
        }
      ]
    },
    {
      "cell_type": "code",
      "metadata": {
        "id": "v4G-YmHdNFzW"
      },
      "source": [
        "torch.save(model_resnet50, 'resnet50.pt')  "
      ],
      "execution_count": null,
      "outputs": []
    },
    {
      "cell_type": "markdown",
      "metadata": {
        "id": "7QWuUbbGmfzx"
      },
      "source": [
        "## **성능 평가**"
      ]
    },
    {
      "cell_type": "markdown",
      "metadata": {
        "id": "ljQTBc9TMU-R"
      },
      "source": [
        "###Prediction"
      ]
    },
    {
      "cell_type": "code",
      "metadata": {
        "id": "0vDbQOdWO5G_"
      },
      "source": [
        "#imbalanced raw data로 훈련된 모델 prediction\n",
        "baseline_imb=torch.load('imbalanced_baseline.pt')\n",
        "baseline_imb.eval()\n",
        "test_loss, test_accuracy = evaluate(baseline_imb, test_loader)\n",
        "print('test acc:  ', test_accuracy)"
      ],
      "execution_count": null,
      "outputs": []
    },
    {
      "cell_type": "code",
      "metadata": {
        "id": "SVaH9PQPACKl"
      },
      "source": [
        "#balanced data로 훈련된 모델 prediction\n",
        "baseline_bal=torch.load('balanced_baseline.pt')\n",
        "baseline_bal.eval()\n",
        "test_loss, test_accuracy = evaluate(baseline_bal, test_loader)\n",
        "print('test acc:  ', test_accuracy)"
      ],
      "execution_count": null,
      "outputs": []
    },
    {
      "cell_type": "code",
      "metadata": {
        "id": "nCwzLwjuLmR1"
      },
      "source": [
        "#resnet50 모델 prediction\n",
        "resnet50=torch.load('resnet50.pt')\n",
        "resnet50.eval()\n",
        "test_loss, test_accuracy = evaluate(resnet50, test_loader)\n",
        "print('test acc:  ', test_accuracy)"
      ],
      "execution_count": null,
      "outputs": []
    }
  ]
}